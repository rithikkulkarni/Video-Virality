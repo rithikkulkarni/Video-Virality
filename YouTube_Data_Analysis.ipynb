{
  "nbformat": 4,
  "nbformat_minor": 0,
  "metadata": {
    "colab": {
      "provenance": [],
      "authorship_tag": "ABX9TyP3QEzC5BoDxMSTn4D/mcZg",
      "include_colab_link": true
    },
    "kernelspec": {
      "name": "python3",
      "display_name": "Python 3"
    },
    "language_info": {
      "name": "python"
    }
  },
  "cells": [
    {
      "cell_type": "markdown",
      "metadata": {
        "id": "view-in-github",
        "colab_type": "text"
      },
      "source": [
        "<a href=\"https://colab.research.google.com/github/rithikkulkarni/Video-Virality/blob/main/YouTube_Data_Analysis.ipynb\" target=\"_parent\"><img src=\"https://colab.research.google.com/assets/colab-badge.svg\" alt=\"Open In Colab\"/></a>"
      ]
    },
    {
      "source": [
        "import pandas as pd\n",
        "\n",
        "url = 'https://raw.githubusercontent.com/rithikkulkarni/Video-Virality/refs/heads/main/video_details.csv'\n",
        "df = pd.read_csv(url)\n",
        "\n",
        "# Display the first few rows of the DataFrame\n",
        "print(df.head())"
      ],
      "cell_type": "code",
      "metadata": {
        "colab": {
          "base_uri": "https://localhost:8080/"
        },
        "id": "61zHfhJMMrLg",
        "outputId": "a1f13f4f-4b95-4ecd-f2d9-2df0608c726e"
      },
      "execution_count": 1,
      "outputs": [
        {
          "output_type": "stream",
          "name": "stdout",
          "text": [
            "            kind                         etag           id  \\\n",
            "0  youtube#video  D2mjbNh0pnDXVfABAZ6oPVk93JU  lPbz_SkrrEQ   \n",
            "1  youtube#video  6Bv_tpklypBszJ3sL2R-lhn-E3U  7ucSt72fuM4   \n",
            "2  youtube#video  3PDkMp1ojf1bDhTlKxTSSItX3NE  19Q_wvWfsFk   \n",
            "3  youtube#video  uafSmkZxxqLknJN2U0iSEDLcqt8  MSigJw0mk-A   \n",
            "4  youtube#video  g_zeDqQYqnESFShxHnIMov9BUvs  3fLX1vvVRo0   \n",
            "\n",
            "                 channel_id   snippet.publishedAt         snippet.channelId  \\\n",
            "0  UCTbtlMEiBfs0zZLQyJzR0Uw  2025-06-12T01:30:26Z  UCTbtlMEiBfs0zZLQyJzR0Uw   \n",
            "1  UCTbtlMEiBfs0zZLQyJzR0Uw  2025-06-11T21:20:56Z  UCTbtlMEiBfs0zZLQyJzR0Uw   \n",
            "2  UCTbtlMEiBfs0zZLQyJzR0Uw  2025-06-11T01:31:51Z  UCTbtlMEiBfs0zZLQyJzR0Uw   \n",
            "3  UCTbtlMEiBfs0zZLQyJzR0Uw  2025-06-10T23:49:23Z  UCTbtlMEiBfs0zZLQyJzR0Uw   \n",
            "4  UCTbtlMEiBfs0zZLQyJzR0Uw  2025-06-10T00:47:54Z  UCTbtlMEiBfs0zZLQyJzR0Uw   \n",
            "\n",
            "                                       snippet.title  \\\n",
            "0  LAST CHANCE! Tarik Reacts to Paper Rex vs Team...   \n",
            "1  WINNER TO PLAYOFFS! Tarik Reacts to Wolves Esp...   \n",
            "2  LOSER GOES HOME! Tarik Reacts to Team Liquid v...   \n",
            "3  ELIMINATION MATCH! Tarik Reacts to Team Hereti...   \n",
            "4  Tarik Reacts to Paper Rex vs GenG | Group Stag...   \n",
            "\n",
            "                                 snippet.description  \\\n",
            "0  Tarik reacts to PRX play against Team Liquid d...   \n",
            "1  Tarik reacts to BLG play against Wolves Esport...   \n",
            "2  Tarik reacts to Team Liquid play against MIBR ...   \n",
            "3  Tarik reacts to Team Heretics play against Wol...   \n",
            "4  Tarik reacts to PRX play against Gen.G uring V...   \n",
            "\n",
            "                   snippet.thumbnails.default.url  \\\n",
            "0  https://i.ytimg.com/vi/lPbz_SkrrEQ/default.jpg   \n",
            "1  https://i.ytimg.com/vi/7ucSt72fuM4/default.jpg   \n",
            "2  https://i.ytimg.com/vi/19Q_wvWfsFk/default.jpg   \n",
            "3  https://i.ytimg.com/vi/MSigJw0mk-A/default.jpg   \n",
            "4  https://i.ytimg.com/vi/3fLX1vvVRo0/default.jpg   \n",
            "\n",
            "   snippet.thumbnails.default.width  ...  snippet.categoryId  \\\n",
            "0                               120  ...                  20   \n",
            "1                               120  ...                  20   \n",
            "2                               120  ...                  20   \n",
            "3                               120  ...                  20   \n",
            "4                               120  ...                  20   \n",
            "\n",
            "  snippet.liveBroadcastContent  \\\n",
            "0                         none   \n",
            "1                         none   \n",
            "2                         none   \n",
            "3                         none   \n",
            "4                         none   \n",
            "\n",
            "                             snippet.localized.title  \\\n",
            "0  LAST CHANCE! Tarik Reacts to Paper Rex vs Team...   \n",
            "1  WINNER TO PLAYOFFS! Tarik Reacts to Wolves Esp...   \n",
            "2  LOSER GOES HOME! Tarik Reacts to Team Liquid v...   \n",
            "3  ELIMINATION MATCH! Tarik Reacts to Team Hereti...   \n",
            "4  Tarik Reacts to Paper Rex vs GenG | Group Stag...   \n",
            "\n",
            "                       snippet.localized.description  \\\n",
            "0  Tarik reacts to PRX play against Team Liquid d...   \n",
            "1  Tarik reacts to BLG play against Wolves Esport...   \n",
            "2  Tarik reacts to Team Liquid play against MIBR ...   \n",
            "3  Tarik reacts to Team Heretics play against Wol...   \n",
            "4  Tarik reacts to PRX play against Gen.G uring V...   \n",
            "\n",
            "  snippet.defaultAudioLanguage  statistics.viewCount  statistics.likeCount  \\\n",
            "0                           en                 16066                 605.0   \n",
            "1                           en                 17951                 484.0   \n",
            "2                           en                 96869                1979.0   \n",
            "3                           en                 58967                1185.0   \n",
            "4                           en                105182                2108.0   \n",
            "\n",
            "  statistics.favoriteCount  statistics.commentCount  snippet.defaultLanguage  \n",
            "0                        0                     51.0                      NaN  \n",
            "1                        0                     17.0                      NaN  \n",
            "2                        0                     85.0                      NaN  \n",
            "3                        0                     79.0                      NaN  \n",
            "4                        0                    123.0                      NaN  \n",
            "\n",
            "[5 rows x 35 columns]\n"
          ]
        }
      ]
    },
    {
      "source": [
        "# List the columns of the DataFrame\n",
        "print(df.columns)"
      ],
      "cell_type": "code",
      "metadata": {
        "colab": {
          "base_uri": "https://localhost:8080/"
        },
        "id": "_1-JXKpuM1iU",
        "outputId": "54e56891-e9f2-4c1d-980f-14f78c3cdfc8"
      },
      "execution_count": 2,
      "outputs": [
        {
          "output_type": "stream",
          "name": "stdout",
          "text": [
            "Index(['kind', 'etag', 'id', 'channel_id', 'snippet.publishedAt',\n",
            "       'snippet.channelId', 'snippet.title', 'snippet.description',\n",
            "       'snippet.thumbnails.default.url', 'snippet.thumbnails.default.width',\n",
            "       'snippet.thumbnails.default.height', 'snippet.thumbnails.medium.url',\n",
            "       'snippet.thumbnails.medium.width', 'snippet.thumbnails.medium.height',\n",
            "       'snippet.thumbnails.high.url', 'snippet.thumbnails.high.width',\n",
            "       'snippet.thumbnails.high.height', 'snippet.thumbnails.standard.url',\n",
            "       'snippet.thumbnails.standard.width',\n",
            "       'snippet.thumbnails.standard.height', 'snippet.thumbnails.maxres.url',\n",
            "       'snippet.thumbnails.maxres.width', 'snippet.thumbnails.maxres.height',\n",
            "       'snippet.channelTitle', 'snippet.tags', 'snippet.categoryId',\n",
            "       'snippet.liveBroadcastContent', 'snippet.localized.title',\n",
            "       'snippet.localized.description', 'snippet.defaultAudioLanguage',\n",
            "       'statistics.viewCount', 'statistics.likeCount',\n",
            "       'statistics.favoriteCount', 'statistics.commentCount',\n",
            "       'snippet.defaultLanguage'],\n",
            "      dtype='object')\n"
          ]
        }
      ]
    },
    {
      "source": [
        "# Create a dictionary for renaming columns\n",
        "rename_dict = {}\n",
        "for col in df.columns:\n",
        "    if col.startswith('snippet.'):\n",
        "        rename_dict[col] = col.replace('snippet.', '')\n",
        "\n",
        "# Rename the columns\n",
        "df.rename(columns=rename_dict, inplace=True)\n",
        "\n",
        "# Display the new column names to verify\n",
        "print(df.columns)"
      ],
      "cell_type": "code",
      "metadata": {
        "colab": {
          "base_uri": "https://localhost:8080/"
        },
        "id": "5ASx4fUnM8gb",
        "outputId": "299bcecb-a234-4fbe-fc40-e17af6c9c09d"
      },
      "execution_count": 3,
      "outputs": [
        {
          "output_type": "stream",
          "name": "stdout",
          "text": [
            "Index(['kind', 'etag', 'id', 'channel_id', 'publishedAt', 'channelId', 'title',\n",
            "       'description', 'thumbnails.default.url', 'thumbnails.default.width',\n",
            "       'thumbnails.default.height', 'thumbnails.medium.url',\n",
            "       'thumbnails.medium.width', 'thumbnails.medium.height',\n",
            "       'thumbnails.high.url', 'thumbnails.high.width',\n",
            "       'thumbnails.high.height', 'thumbnails.standard.url',\n",
            "       'thumbnails.standard.width', 'thumbnails.standard.height',\n",
            "       'thumbnails.maxres.url', 'thumbnails.maxres.width',\n",
            "       'thumbnails.maxres.height', 'channelTitle', 'tags', 'categoryId',\n",
            "       'liveBroadcastContent', 'localized.title', 'localized.description',\n",
            "       'defaultAudioLanguage', 'statistics.viewCount', 'statistics.likeCount',\n",
            "       'statistics.favoriteCount', 'statistics.commentCount',\n",
            "       'defaultLanguage'],\n",
            "      dtype='object')\n"
          ]
        }
      ]
    },
    {
      "source": [
        "# Example: Rename a column named 'old_column_name' to 'new_column_name'\n",
        "rename_dict = {'old_column_name': 'new_column_name'}\n",
        "\n",
        "# Apply the renaming\n",
        "df.rename(columns=rename_dict, inplace=True)\n",
        "\n",
        "# Display the new column names to verify (optional)\n",
        "print(df.columns)"
      ],
      "cell_type": "code",
      "metadata": {
        "id": "GbyAGKXQNKqb"
      },
      "execution_count": null,
      "outputs": []
    }
  ]
}