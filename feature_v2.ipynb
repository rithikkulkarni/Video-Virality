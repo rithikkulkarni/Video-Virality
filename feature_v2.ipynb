{
  "nbformat": 4,
  "nbformat_minor": 0,
  "metadata": {
    "colab": {
      "provenance": [],
      "authorship_tag": "ABX9TyPNn1SPB4FdiiNQWMus9GjQ",
      "include_colab_link": true
    },
    "kernelspec": {
      "name": "python3",
      "display_name": "Python 3"
    },
    "language_info": {
      "name": "python"
    }
  },
  "cells": [
    {
      "cell_type": "markdown",
      "metadata": {
        "id": "view-in-github",
        "colab_type": "text"
      },
      "source": [
        "<a href=\"https://colab.research.google.com/github/rithikkulkarni/Video-Virality-Testing/blob/main/feature_v2.ipynb\" target=\"_parent\"><img src=\"https://colab.research.google.com/assets/colab-badge.svg\" alt=\"Open In Colab\"/></a>"
      ]
    },
    {
      "cell_type": "code",
      "execution_count": null,
      "metadata": {
        "id": "NI5jIkJVfPCG"
      },
      "outputs": [],
      "source": [
        "filename = \"group6_v2.csv\"\n",
        "\n",
        "# Load the CSV\n",
        "import pandas as pd\n",
        "\n",
        "df = pd.read_csv(f'/content/{filename}')\n",
        "df.head()"
      ]
    },
    {
      "cell_type": "code",
      "source": [
        "# Extract video IDs\n",
        "video_ids = df[\"id\"].dropna().unique().tolist()\n",
        "print(f\"Found {len(video_ids)} video IDs.\")\n",
        "\n",
        "# Download thumbnails\n",
        "import os\n",
        "import requests\n",
        "from PIL import Image\n",
        "from io import BytesIO\n",
        "\n",
        "os.makedirs(\"thumbnails\", exist_ok=True)\n",
        "\n",
        "def download_thumbnail(video_id):\n",
        "    url = f\"https://i.ytimg.com/vi/{video_id}/mqdefault.jpg\"\n",
        "    path = f\"thumbnails/{video_id}.jpg\"\n",
        "    try:\n",
        "        response = requests.get(url)\n",
        "        img = Image.open(BytesIO(response.content)).convert('RGB')\n",
        "        img.save(path)\n",
        "        return path\n",
        "    except Exception as e:\n",
        "        print(f\"Error downloading {video_id}: {e}\")\n",
        "        return None\n",
        "\n",
        "paths = [download_thumbnail(vid) for vid in video_ids]"
      ],
      "metadata": {
        "id": "1LA2vLJMfflS"
      },
      "execution_count": null,
      "outputs": []
    },
    {
      "cell_type": "code",
      "source": [
        "##### Labeling virality (based on high performance)\n",
        "\n",
        "# \"High performance\" threshold\n",
        "percentile = 0.75\n",
        "\n",
        "# Select the numeric columns *before* grouping and applying quantile\n",
        "thresholds = df[[\"channel_id\", \"viewCount\", \"likeCount\", \"commentCount\"]].groupby(\"channel_id\").quantile(percentile)[\n",
        "    [\"viewCount\", \"likeCount\", \"commentCount\"]\n",
        "].rename(columns={\n",
        "    \"viewCount\": \"views_threshold\",\n",
        "    \"likeCount\": \"likes_threshold\",\n",
        "    \"commentCount\": \"comments_threshold\"\n",
        "}).reset_index()\n",
        "\n",
        "# Merge thresholds into main dataframe (only run once)\n",
        "df = df.merge(thresholds, on=\"channel_id\", how=\"left\")\n",
        "df.head()\n",
        "\n",
        "# Label virality using thresholds\n",
        "df[\"viral\"] = (\n",
        "    (df[\"viewCount\"] > df[\"views_threshold\"]) &\n",
        "    (df[\"likeCount\"] > df[\"likes_threshold\"]) &\n",
        "    (df[\"commentCount\"] > df[\"comments_threshold\"])\n",
        ").astype(int)\n",
        "\n",
        "# Drop the threshold columns from the main DataFrame\n",
        "df = df.drop([\"views_threshold\", \"likes_threshold\", \"comments_threshold\"], axis=1)\n",
        "\n",
        "df.head()\n",
        "\n",
        "# (OPTIONAL FOR DEBUGGING) Calculate the percentage of viral videos\n",
        "viral_percentage = (df[\"viral\"].sum() / len(df)) * 100\n",
        "\n",
        "print(f\"Percentage of viral videos: {viral_percentage:.2f}%\")"
      ],
      "metadata": {
        "id": "yfO40N4Lf_w3"
      },
      "execution_count": null,
      "outputs": []
    },
    {
      "cell_type": "code",
      "source": [
        "##### Dropping columns that aren't used from youtube data api v3 metadata\n",
        "\n",
        "# Dropping bad columns/features\n",
        "columns_to_drop = ['kind',\n",
        "                   'etag',\n",
        "                   'channel_id_x',\n",
        "                   'snippet.publishedAt',\n",
        "                   'snippet.title',\n",
        "                   'snippet.thumbnails.default.url',\n",
        "                   'snippet.thumbnails.default.width',\n",
        "                   'snippet.thumbnails.default.height',\n",
        "                   'snippet.thumbnails.medium.url',\n",
        "                   'snippet.thumbnails.medium.width',\n",
        "                   'snippet.thumbnails.medium.height',\n",
        "                   'snippet.thumbnails.high.url',\n",
        "                   'snippet.thumbnails.high.width',\n",
        "                   'snippet.thumbnails.high.height',\n",
        "                   'snippet.thumbnails.standard.url',\n",
        "                   'snippet.thumbnails.standard.width',\n",
        "                   'snippet.thumbnails.standard.height',\n",
        "                   'snippet.thumbnails.maxres.url',\n",
        "                   'snippet.thumbnails.maxres.width',\n",
        "                   'snippet.thumbnails.maxres.height',\n",
        "                   'statistics.viewCount',\n",
        "                   'statistics.likeCount',\n",
        "                   'statistics.commentCount',\n",
        "                   'snippet.channelTitle',\n",
        "                   'snippet.categoryId',\n",
        "                   'snippet.liveBroadcastContent',\n",
        "                   'snippet.defaultAudioLanguage',\n",
        "                   'snippet.defaultLanguage',\n",
        "                   'title',\n",
        "                   'channel_id_x',\n",
        "                   'channel_id_y',\n",
        "                   'snippet.localized.description',\n",
        "                   'statistics.favoriteCount',\n",
        "                   'id']\n",
        "\n",
        "# Check which columns exist in the DataFrame before dropping\n",
        "existing_columns_to_drop = [col for col in columns_to_drop if col in df.columns]\n",
        "\n",
        "df = df.drop(columns=existing_columns_to_drop, axis=1)"
      ],
      "metadata": {
        "id": "l_z6leRcgDJJ"
      },
      "execution_count": null,
      "outputs": []
    }
  ]
}