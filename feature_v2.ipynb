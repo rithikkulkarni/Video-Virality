{
  "nbformat": 4,
  "nbformat_minor": 0,
  "metadata": {
    "colab": {
      "provenance": [],
      "authorship_tag": "ABX9TyNj9wIbdJLFJSoKmidCQoEi",
      "include_colab_link": true
    },
    "kernelspec": {
      "name": "python3",
      "display_name": "Python 3"
    },
    "language_info": {
      "name": "python"
    }
  },
  "cells": [
    {
      "cell_type": "markdown",
      "metadata": {
        "id": "view-in-github",
        "colab_type": "text"
      },
      "source": [
        "<a href=\"https://colab.research.google.com/github/rithikkulkarni/Video-Virality-Testing/blob/main/feature_v2.ipynb\" target=\"_parent\"><img src=\"https://colab.research.google.com/assets/colab-badge.svg\" alt=\"Open In Colab\"/></a>"
      ]
    },
    {
      "cell_type": "code",
      "execution_count": null,
      "metadata": {
        "id": "NI5jIkJVfPCG"
      },
      "outputs": [],
      "source": [
        "filename = \"group6_v2.csv\"\n",
        "\n",
        "# Load the CSV\n",
        "import pandas as pd\n",
        "\n",
        "df = pd.read_csv(f'/content/{filename}')\n",
        "df.head()"
      ]
    },
    {
      "cell_type": "code",
      "source": [
        "# Extract video IDs\n",
        "video_ids = df[\"id\"].dropna().unique().tolist()\n",
        "print(f\"Found {len(video_ids)} video IDs.\")\n",
        "\n",
        "# Download thumbnails\n",
        "import os\n",
        "import requests\n",
        "from PIL import Image\n",
        "from io import BytesIO\n",
        "\n",
        "os.makedirs(\"thumbnails\", exist_ok=True)\n",
        "\n",
        "def download_thumbnail(video_id):\n",
        "    url = f\"https://i.ytimg.com/vi/{video_id}/mqdefault.jpg\"\n",
        "    path = f\"thumbnails/{video_id}.jpg\"\n",
        "    try:\n",
        "        response = requests.get(url)\n",
        "        img = Image.open(BytesIO(response.content)).convert('RGB')\n",
        "        img.save(path)\n",
        "        return path\n",
        "    except Exception as e:\n",
        "        print(f\"Error downloading {video_id}: {e}\")\n",
        "        return None\n",
        "\n",
        "paths = [download_thumbnail(vid) for vid in video_ids]"
      ],
      "metadata": {
        "id": "1LA2vLJMfflS"
      },
      "execution_count": null,
      "outputs": []
    }
  ]
}