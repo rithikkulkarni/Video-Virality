{
  "nbformat": 4,
  "nbformat_minor": 0,
  "metadata": {
    "colab": {
      "provenance": [],
      "collapsed_sections": [
        "ys7SQV3id_L_"
      ],
      "authorship_tag": "ABX9TyNwi3p1jM1SIgxZtjEGUSv4",
      "include_colab_link": true
    },
    "kernelspec": {
      "name": "python3",
      "display_name": "Python 3"
    },
    "language_info": {
      "name": "python"
    }
  },
  "cells": [
    {
      "cell_type": "markdown",
      "metadata": {
        "id": "view-in-github",
        "colab_type": "text"
      },
      "source": [
        "<a href=\"https://colab.research.google.com/github/rithikkulkarni/Video-Virality-Testing/blob/main/notebooks/feature_extraction.ipynb\" target=\"_parent\"><img src=\"https://colab.research.google.com/assets/colab-badge.svg\" alt=\"Open In Colab\"/></a>"
      ]
    },
    {
      "cell_type": "markdown",
      "source": [
        "# Extraction: Run as group\n"
      ],
      "metadata": {
        "id": "ys7SQV3id_L_"
      }
    },
    {
      "cell_type": "code",
      "source": [
        "filename = \"ken.csv\"\n",
        "\n",
        "# Load the CSV\n",
        "import pandas as pd\n",
        "\n",
        "url = f\"https://raw.githubusercontent.com/rithikkulkarni/Video-Virality-Testing/refs/heads/main/data/{filename}\"\n",
        "df = pd.read_csv(url)\n",
        "df.head()"
      ],
      "metadata": {
        "id": "aiorXGcOZsJz",
        "outputId": "93a09159-6b19-464c-d7e5-a37f1f513045",
        "colab": {
          "base_uri": "https://localhost:8080/",
          "height": 429
        }
      },
      "execution_count": null,
      "outputs": [
        {
          "output_type": "execute_result",
          "data": {
            "text/plain": [
              "            kind                         etag           id  \\\n",
              "0  youtube#video  s0DFXxWOwJEe94JGliY70imrpuc  -6NggmO01jI   \n",
              "1  youtube#video  G7F761l9GLwaTdrWiAXmpQwXuDI  DJPggQYSLOo   \n",
              "2  youtube#video  WDrflpPg_DWm6TbHjhQ8vkPL-mQ  L2a4tqJSizk   \n",
              "3  youtube#video  xFTqRsnQUO-1ywvAYjR5S7Gqxfs  bGKjjUHJ8lk   \n",
              "4  youtube#video  XnATfLOTfIu47BK6dN1F-fCKAfk  W4c3EZeqw1c   \n",
              "\n",
              "                 channel_id   snippet.publishedAt         snippet.channelId  \\\n",
              "0  UCiFOL6V9KbvxfXvzdFSsqCw  2025-06-25T15:58:37Z  UCiFOL6V9KbvxfXvzdFSsqCw   \n",
              "1  UCiFOL6V9KbvxfXvzdFSsqCw  2025-06-24T19:18:34Z  UCiFOL6V9KbvxfXvzdFSsqCw   \n",
              "2  UCiFOL6V9KbvxfXvzdFSsqCw  2025-06-23T19:30:02Z  UCiFOL6V9KbvxfXvzdFSsqCw   \n",
              "3  UCiFOL6V9KbvxfXvzdFSsqCw  2025-06-22T21:00:40Z  UCiFOL6V9KbvxfXvzdFSsqCw   \n",
              "4  UCiFOL6V9KbvxfXvzdFSsqCw  2025-06-21T17:00:38Z  UCiFOL6V9KbvxfXvzdFSsqCw   \n",
              "\n",
              "           snippet.title                                snippet.description  \\\n",
              "0              700k subs  https://twitter.com/kfcclash\\nhttps://discord....   \n",
              "1                 sneaky  https://twitter.com/kfcclash\\nhttps://discord....   \n",
              "2         my little bush  https://twitter.com/kfcclash\\nhttps://discord....   \n",
              "3  I'm a terrible person  https://twitter.com/kfcclash\\nhttps://discord....   \n",
              "4             the answer  https://twitter.com/kfcclash\\nhttps://discord....   \n",
              "\n",
              "                   snippet.thumbnails.default.url  \\\n",
              "0  https://i.ytimg.com/vi/-6NggmO01jI/default.jpg   \n",
              "1  https://i.ytimg.com/vi/DJPggQYSLOo/default.jpg   \n",
              "2  https://i.ytimg.com/vi/L2a4tqJSizk/default.jpg   \n",
              "3  https://i.ytimg.com/vi/bGKjjUHJ8lk/default.jpg   \n",
              "4  https://i.ytimg.com/vi/W4c3EZeqw1c/default.jpg   \n",
              "\n",
              "   snippet.thumbnails.default.width  ...  snippet.channelTitle  \\\n",
              "0                               120  ...                   Ken   \n",
              "1                               120  ...                   Ken   \n",
              "2                               120  ...                   Ken   \n",
              "3                               120  ...                   Ken   \n",
              "4                               120  ...                   Ken   \n",
              "\n",
              "  snippet.categoryId  snippet.liveBroadcastContent  snippet.localized.title  \\\n",
              "0                 24                          none                700k subs   \n",
              "1                 24                          none                   sneaky   \n",
              "2                 24                          none           my little bush   \n",
              "3                 24                          none    I'm a terrible person   \n",
              "4                 24                          none               the answer   \n",
              "\n",
              "                       snippet.localized.description  statistics.viewCount  \\\n",
              "0  https://twitter.com/kfcclash\\nhttps://discord....                229634   \n",
              "1  https://twitter.com/kfcclash\\nhttps://discord....                403470   \n",
              "2  https://twitter.com/kfcclash\\nhttps://discord....                304607   \n",
              "3  https://twitter.com/kfcclash\\nhttps://discord....                295099   \n",
              "4  https://twitter.com/kfcclash\\nhttps://discord....                412477   \n",
              "\n",
              "   statistics.likeCount statistics.favoriteCount  statistics.commentCount  \\\n",
              "0                 22646                        0                     1293   \n",
              "1                 32749                        0                     1612   \n",
              "2                 25008                        0                     1273   \n",
              "3                 21954                        0                     1191   \n",
              "4                 26057                        0                     1469   \n",
              "\n",
              "   snippet.tags  \n",
              "0           NaN  \n",
              "1           NaN  \n",
              "2           NaN  \n",
              "3           NaN  \n",
              "4           NaN  \n",
              "\n",
              "[5 rows x 33 columns]"
            ],
            "text/html": [
              "\n",
              "  <div id=\"df-7d00e259-5bf4-4f0c-8553-7e375525ed68\" class=\"colab-df-container\">\n",
              "    <div>\n",
              "<style scoped>\n",
              "    .dataframe tbody tr th:only-of-type {\n",
              "        vertical-align: middle;\n",
              "    }\n",
              "\n",
              "    .dataframe tbody tr th {\n",
              "        vertical-align: top;\n",
              "    }\n",
              "\n",
              "    .dataframe thead th {\n",
              "        text-align: right;\n",
              "    }\n",
              "</style>\n",
              "<table border=\"1\" class=\"dataframe\">\n",
              "  <thead>\n",
              "    <tr style=\"text-align: right;\">\n",
              "      <th></th>\n",
              "      <th>kind</th>\n",
              "      <th>etag</th>\n",
              "      <th>id</th>\n",
              "      <th>channel_id</th>\n",
              "      <th>snippet.publishedAt</th>\n",
              "      <th>snippet.channelId</th>\n",
              "      <th>snippet.title</th>\n",
              "      <th>snippet.description</th>\n",
              "      <th>snippet.thumbnails.default.url</th>\n",
              "      <th>snippet.thumbnails.default.width</th>\n",
              "      <th>...</th>\n",
              "      <th>snippet.channelTitle</th>\n",
              "      <th>snippet.categoryId</th>\n",
              "      <th>snippet.liveBroadcastContent</th>\n",
              "      <th>snippet.localized.title</th>\n",
              "      <th>snippet.localized.description</th>\n",
              "      <th>statistics.viewCount</th>\n",
              "      <th>statistics.likeCount</th>\n",
              "      <th>statistics.favoriteCount</th>\n",
              "      <th>statistics.commentCount</th>\n",
              "      <th>snippet.tags</th>\n",
              "    </tr>\n",
              "  </thead>\n",
              "  <tbody>\n",
              "    <tr>\n",
              "      <th>0</th>\n",
              "      <td>youtube#video</td>\n",
              "      <td>s0DFXxWOwJEe94JGliY70imrpuc</td>\n",
              "      <td>-6NggmO01jI</td>\n",
              "      <td>UCiFOL6V9KbvxfXvzdFSsqCw</td>\n",
              "      <td>2025-06-25T15:58:37Z</td>\n",
              "      <td>UCiFOL6V9KbvxfXvzdFSsqCw</td>\n",
              "      <td>700k subs</td>\n",
              "      <td>https://twitter.com/kfcclash\\nhttps://discord....</td>\n",
              "      <td>https://i.ytimg.com/vi/-6NggmO01jI/default.jpg</td>\n",
              "      <td>120</td>\n",
              "      <td>...</td>\n",
              "      <td>Ken</td>\n",
              "      <td>24</td>\n",
              "      <td>none</td>\n",
              "      <td>700k subs</td>\n",
              "      <td>https://twitter.com/kfcclash\\nhttps://discord....</td>\n",
              "      <td>229634</td>\n",
              "      <td>22646</td>\n",
              "      <td>0</td>\n",
              "      <td>1293</td>\n",
              "      <td>NaN</td>\n",
              "    </tr>\n",
              "    <tr>\n",
              "      <th>1</th>\n",
              "      <td>youtube#video</td>\n",
              "      <td>G7F761l9GLwaTdrWiAXmpQwXuDI</td>\n",
              "      <td>DJPggQYSLOo</td>\n",
              "      <td>UCiFOL6V9KbvxfXvzdFSsqCw</td>\n",
              "      <td>2025-06-24T19:18:34Z</td>\n",
              "      <td>UCiFOL6V9KbvxfXvzdFSsqCw</td>\n",
              "      <td>sneaky</td>\n",
              "      <td>https://twitter.com/kfcclash\\nhttps://discord....</td>\n",
              "      <td>https://i.ytimg.com/vi/DJPggQYSLOo/default.jpg</td>\n",
              "      <td>120</td>\n",
              "      <td>...</td>\n",
              "      <td>Ken</td>\n",
              "      <td>24</td>\n",
              "      <td>none</td>\n",
              "      <td>sneaky</td>\n",
              "      <td>https://twitter.com/kfcclash\\nhttps://discord....</td>\n",
              "      <td>403470</td>\n",
              "      <td>32749</td>\n",
              "      <td>0</td>\n",
              "      <td>1612</td>\n",
              "      <td>NaN</td>\n",
              "    </tr>\n",
              "    <tr>\n",
              "      <th>2</th>\n",
              "      <td>youtube#video</td>\n",
              "      <td>WDrflpPg_DWm6TbHjhQ8vkPL-mQ</td>\n",
              "      <td>L2a4tqJSizk</td>\n",
              "      <td>UCiFOL6V9KbvxfXvzdFSsqCw</td>\n",
              "      <td>2025-06-23T19:30:02Z</td>\n",
              "      <td>UCiFOL6V9KbvxfXvzdFSsqCw</td>\n",
              "      <td>my little bush</td>\n",
              "      <td>https://twitter.com/kfcclash\\nhttps://discord....</td>\n",
              "      <td>https://i.ytimg.com/vi/L2a4tqJSizk/default.jpg</td>\n",
              "      <td>120</td>\n",
              "      <td>...</td>\n",
              "      <td>Ken</td>\n",
              "      <td>24</td>\n",
              "      <td>none</td>\n",
              "      <td>my little bush</td>\n",
              "      <td>https://twitter.com/kfcclash\\nhttps://discord....</td>\n",
              "      <td>304607</td>\n",
              "      <td>25008</td>\n",
              "      <td>0</td>\n",
              "      <td>1273</td>\n",
              "      <td>NaN</td>\n",
              "    </tr>\n",
              "    <tr>\n",
              "      <th>3</th>\n",
              "      <td>youtube#video</td>\n",
              "      <td>xFTqRsnQUO-1ywvAYjR5S7Gqxfs</td>\n",
              "      <td>bGKjjUHJ8lk</td>\n",
              "      <td>UCiFOL6V9KbvxfXvzdFSsqCw</td>\n",
              "      <td>2025-06-22T21:00:40Z</td>\n",
              "      <td>UCiFOL6V9KbvxfXvzdFSsqCw</td>\n",
              "      <td>I'm a terrible person</td>\n",
              "      <td>https://twitter.com/kfcclash\\nhttps://discord....</td>\n",
              "      <td>https://i.ytimg.com/vi/bGKjjUHJ8lk/default.jpg</td>\n",
              "      <td>120</td>\n",
              "      <td>...</td>\n",
              "      <td>Ken</td>\n",
              "      <td>24</td>\n",
              "      <td>none</td>\n",
              "      <td>I'm a terrible person</td>\n",
              "      <td>https://twitter.com/kfcclash\\nhttps://discord....</td>\n",
              "      <td>295099</td>\n",
              "      <td>21954</td>\n",
              "      <td>0</td>\n",
              "      <td>1191</td>\n",
              "      <td>NaN</td>\n",
              "    </tr>\n",
              "    <tr>\n",
              "      <th>4</th>\n",
              "      <td>youtube#video</td>\n",
              "      <td>XnATfLOTfIu47BK6dN1F-fCKAfk</td>\n",
              "      <td>W4c3EZeqw1c</td>\n",
              "      <td>UCiFOL6V9KbvxfXvzdFSsqCw</td>\n",
              "      <td>2025-06-21T17:00:38Z</td>\n",
              "      <td>UCiFOL6V9KbvxfXvzdFSsqCw</td>\n",
              "      <td>the answer</td>\n",
              "      <td>https://twitter.com/kfcclash\\nhttps://discord....</td>\n",
              "      <td>https://i.ytimg.com/vi/W4c3EZeqw1c/default.jpg</td>\n",
              "      <td>120</td>\n",
              "      <td>...</td>\n",
              "      <td>Ken</td>\n",
              "      <td>24</td>\n",
              "      <td>none</td>\n",
              "      <td>the answer</td>\n",
              "      <td>https://twitter.com/kfcclash\\nhttps://discord....</td>\n",
              "      <td>412477</td>\n",
              "      <td>26057</td>\n",
              "      <td>0</td>\n",
              "      <td>1469</td>\n",
              "      <td>NaN</td>\n",
              "    </tr>\n",
              "  </tbody>\n",
              "</table>\n",
              "<p>5 rows × 33 columns</p>\n",
              "</div>\n",
              "    <div class=\"colab-df-buttons\">\n",
              "\n",
              "  <div class=\"colab-df-container\">\n",
              "    <button class=\"colab-df-convert\" onclick=\"convertToInteractive('df-7d00e259-5bf4-4f0c-8553-7e375525ed68')\"\n",
              "            title=\"Convert this dataframe to an interactive table.\"\n",
              "            style=\"display:none;\">\n",
              "\n",
              "  <svg xmlns=\"http://www.w3.org/2000/svg\" height=\"24px\" viewBox=\"0 -960 960 960\">\n",
              "    <path d=\"M120-120v-720h720v720H120Zm60-500h600v-160H180v160Zm220 220h160v-160H400v160Zm0 220h160v-160H400v160ZM180-400h160v-160H180v160Zm440 0h160v-160H620v160ZM180-180h160v-160H180v160Zm440 0h160v-160H620v160Z\"/>\n",
              "  </svg>\n",
              "    </button>\n",
              "\n",
              "  <style>\n",
              "    .colab-df-container {\n",
              "      display:flex;\n",
              "      gap: 12px;\n",
              "    }\n",
              "\n",
              "    .colab-df-convert {\n",
              "      background-color: #E8F0FE;\n",
              "      border: none;\n",
              "      border-radius: 50%;\n",
              "      cursor: pointer;\n",
              "      display: none;\n",
              "      fill: #1967D2;\n",
              "      height: 32px;\n",
              "      padding: 0 0 0 0;\n",
              "      width: 32px;\n",
              "    }\n",
              "\n",
              "    .colab-df-convert:hover {\n",
              "      background-color: #E2EBFA;\n",
              "      box-shadow: 0px 1px 2px rgba(60, 64, 67, 0.3), 0px 1px 3px 1px rgba(60, 64, 67, 0.15);\n",
              "      fill: #174EA6;\n",
              "    }\n",
              "\n",
              "    .colab-df-buttons div {\n",
              "      margin-bottom: 4px;\n",
              "    }\n",
              "\n",
              "    [theme=dark] .colab-df-convert {\n",
              "      background-color: #3B4455;\n",
              "      fill: #D2E3FC;\n",
              "    }\n",
              "\n",
              "    [theme=dark] .colab-df-convert:hover {\n",
              "      background-color: #434B5C;\n",
              "      box-shadow: 0px 1px 3px 1px rgba(0, 0, 0, 0.15);\n",
              "      filter: drop-shadow(0px 1px 2px rgba(0, 0, 0, 0.3));\n",
              "      fill: #FFFFFF;\n",
              "    }\n",
              "  </style>\n",
              "\n",
              "    <script>\n",
              "      const buttonEl =\n",
              "        document.querySelector('#df-7d00e259-5bf4-4f0c-8553-7e375525ed68 button.colab-df-convert');\n",
              "      buttonEl.style.display =\n",
              "        google.colab.kernel.accessAllowed ? 'block' : 'none';\n",
              "\n",
              "      async function convertToInteractive(key) {\n",
              "        const element = document.querySelector('#df-7d00e259-5bf4-4f0c-8553-7e375525ed68');\n",
              "        const dataTable =\n",
              "          await google.colab.kernel.invokeFunction('convertToInteractive',\n",
              "                                                    [key], {});\n",
              "        if (!dataTable) return;\n",
              "\n",
              "        const docLinkHtml = 'Like what you see? Visit the ' +\n",
              "          '<a target=\"_blank\" href=https://colab.research.google.com/notebooks/data_table.ipynb>data table notebook</a>'\n",
              "          + ' to learn more about interactive tables.';\n",
              "        element.innerHTML = '';\n",
              "        dataTable['output_type'] = 'display_data';\n",
              "        await google.colab.output.renderOutput(dataTable, element);\n",
              "        const docLink = document.createElement('div');\n",
              "        docLink.innerHTML = docLinkHtml;\n",
              "        element.appendChild(docLink);\n",
              "      }\n",
              "    </script>\n",
              "  </div>\n",
              "\n",
              "\n",
              "    <div id=\"df-7c3f53e7-e08e-4382-9132-c4bf8a1934df\">\n",
              "      <button class=\"colab-df-quickchart\" onclick=\"quickchart('df-7c3f53e7-e08e-4382-9132-c4bf8a1934df')\"\n",
              "                title=\"Suggest charts\"\n",
              "                style=\"display:none;\">\n",
              "\n",
              "<svg xmlns=\"http://www.w3.org/2000/svg\" height=\"24px\"viewBox=\"0 0 24 24\"\n",
              "     width=\"24px\">\n",
              "    <g>\n",
              "        <path d=\"M19 3H5c-1.1 0-2 .9-2 2v14c0 1.1.9 2 2 2h14c1.1 0 2-.9 2-2V5c0-1.1-.9-2-2-2zM9 17H7v-7h2v7zm4 0h-2V7h2v10zm4 0h-2v-4h2v4z\"/>\n",
              "    </g>\n",
              "</svg>\n",
              "      </button>\n",
              "\n",
              "<style>\n",
              "  .colab-df-quickchart {\n",
              "      --bg-color: #E8F0FE;\n",
              "      --fill-color: #1967D2;\n",
              "      --hover-bg-color: #E2EBFA;\n",
              "      --hover-fill-color: #174EA6;\n",
              "      --disabled-fill-color: #AAA;\n",
              "      --disabled-bg-color: #DDD;\n",
              "  }\n",
              "\n",
              "  [theme=dark] .colab-df-quickchart {\n",
              "      --bg-color: #3B4455;\n",
              "      --fill-color: #D2E3FC;\n",
              "      --hover-bg-color: #434B5C;\n",
              "      --hover-fill-color: #FFFFFF;\n",
              "      --disabled-bg-color: #3B4455;\n",
              "      --disabled-fill-color: #666;\n",
              "  }\n",
              "\n",
              "  .colab-df-quickchart {\n",
              "    background-color: var(--bg-color);\n",
              "    border: none;\n",
              "    border-radius: 50%;\n",
              "    cursor: pointer;\n",
              "    display: none;\n",
              "    fill: var(--fill-color);\n",
              "    height: 32px;\n",
              "    padding: 0;\n",
              "    width: 32px;\n",
              "  }\n",
              "\n",
              "  .colab-df-quickchart:hover {\n",
              "    background-color: var(--hover-bg-color);\n",
              "    box-shadow: 0 1px 2px rgba(60, 64, 67, 0.3), 0 1px 3px 1px rgba(60, 64, 67, 0.15);\n",
              "    fill: var(--button-hover-fill-color);\n",
              "  }\n",
              "\n",
              "  .colab-df-quickchart-complete:disabled,\n",
              "  .colab-df-quickchart-complete:disabled:hover {\n",
              "    background-color: var(--disabled-bg-color);\n",
              "    fill: var(--disabled-fill-color);\n",
              "    box-shadow: none;\n",
              "  }\n",
              "\n",
              "  .colab-df-spinner {\n",
              "    border: 2px solid var(--fill-color);\n",
              "    border-color: transparent;\n",
              "    border-bottom-color: var(--fill-color);\n",
              "    animation:\n",
              "      spin 1s steps(1) infinite;\n",
              "  }\n",
              "\n",
              "  @keyframes spin {\n",
              "    0% {\n",
              "      border-color: transparent;\n",
              "      border-bottom-color: var(--fill-color);\n",
              "      border-left-color: var(--fill-color);\n",
              "    }\n",
              "    20% {\n",
              "      border-color: transparent;\n",
              "      border-left-color: var(--fill-color);\n",
              "      border-top-color: var(--fill-color);\n",
              "    }\n",
              "    30% {\n",
              "      border-color: transparent;\n",
              "      border-left-color: var(--fill-color);\n",
              "      border-top-color: var(--fill-color);\n",
              "      border-right-color: var(--fill-color);\n",
              "    }\n",
              "    40% {\n",
              "      border-color: transparent;\n",
              "      border-right-color: var(--fill-color);\n",
              "      border-top-color: var(--fill-color);\n",
              "    }\n",
              "    60% {\n",
              "      border-color: transparent;\n",
              "      border-right-color: var(--fill-color);\n",
              "    }\n",
              "    80% {\n",
              "      border-color: transparent;\n",
              "      border-right-color: var(--fill-color);\n",
              "      border-bottom-color: var(--fill-color);\n",
              "    }\n",
              "    90% {\n",
              "      border-color: transparent;\n",
              "      border-bottom-color: var(--fill-color);\n",
              "    }\n",
              "  }\n",
              "</style>\n",
              "\n",
              "      <script>\n",
              "        async function quickchart(key) {\n",
              "          const quickchartButtonEl =\n",
              "            document.querySelector('#' + key + ' button');\n",
              "          quickchartButtonEl.disabled = true;  // To prevent multiple clicks.\n",
              "          quickchartButtonEl.classList.add('colab-df-spinner');\n",
              "          try {\n",
              "            const charts = await google.colab.kernel.invokeFunction(\n",
              "                'suggestCharts', [key], {});\n",
              "          } catch (error) {\n",
              "            console.error('Error during call to suggestCharts:', error);\n",
              "          }\n",
              "          quickchartButtonEl.classList.remove('colab-df-spinner');\n",
              "          quickchartButtonEl.classList.add('colab-df-quickchart-complete');\n",
              "        }\n",
              "        (() => {\n",
              "          let quickchartButtonEl =\n",
              "            document.querySelector('#df-7c3f53e7-e08e-4382-9132-c4bf8a1934df button');\n",
              "          quickchartButtonEl.style.display =\n",
              "            google.colab.kernel.accessAllowed ? 'block' : 'none';\n",
              "        })();\n",
              "      </script>\n",
              "    </div>\n",
              "\n",
              "    </div>\n",
              "  </div>\n"
            ],
            "application/vnd.google.colaboratory.intrinsic+json": {
              "type": "dataframe",
              "variable_name": "df"
            }
          },
          "metadata": {},
          "execution_count": 231
        }
      ]
    },
    {
      "cell_type": "code",
      "source": [
        "# Extract video IDs\n",
        "video_ids = df[\"id\"].dropna().unique().tolist()\n",
        "print(f\"Found {len(video_ids)} video IDs.\")\n",
        "\n",
        "# Download thumbnails\n",
        "import os\n",
        "import requests\n",
        "from PIL import Image\n",
        "from io import BytesIO\n",
        "\n",
        "os.makedirs(\"thumbnails\", exist_ok=True)\n",
        "\n",
        "def download_thumbnail(video_id):\n",
        "    url = f\"https://i.ytimg.com/vi/{video_id}/mqdefault.jpg\"\n",
        "    path = f\"thumbnails/{video_id}.jpg\"\n",
        "    try:\n",
        "        response = requests.get(url)\n",
        "        img = Image.open(BytesIO(response.content)).convert('RGB')\n",
        "        img.save(path)\n",
        "        return path\n",
        "    except Exception as e:\n",
        "        print(f\"Error downloading {video_id}: {e}\")\n",
        "        return None\n",
        "\n",
        "paths = [download_thumbnail(vid) for vid in video_ids]"
      ],
      "metadata": {
        "id": "vqypfUKHZ21K",
        "colab": {
          "base_uri": "https://localhost:8080/"
        },
        "outputId": "01f2c15d-7311-415d-cd50-e64f9895d368"
      },
      "execution_count": null,
      "outputs": [
        {
          "output_type": "stream",
          "name": "stdout",
          "text": [
            "Found 664 video IDs.\n"
          ]
        }
      ]
    },
    {
      "cell_type": "code",
      "source": [
        "# Extract visual features\n",
        "import numpy as np\n",
        "\n",
        "def extract_features(img_path, video_id):\n",
        "    try:\n",
        "        img = Image.open(img_path).convert('RGB')\n",
        "        img_array = np.array(img)\n",
        "\n",
        "        avg_color = np.mean(img_array, axis=(0, 1))\n",
        "        brightness = np.mean(img_array)\n",
        "        contrast = np.std(img_array)\n",
        "\n",
        "        return {\n",
        "            \"video_id\": video_id,\n",
        "            \"avg_red\": avg_color[0],\n",
        "            \"avg_green\": avg_color[1],\n",
        "            \"avg_blue\": avg_color[2],\n",
        "            \"brightness\": brightness,\n",
        "            \"contrast\": contrast\n",
        "        }\n",
        "    except Exception as e:\n",
        "        print(f\"Failed to extract for {video_id}: {e}\")\n",
        "        return None\n",
        "\n",
        "feature_data = [extract_features(f\"thumbnails/{vid}.jpg\", vid) for vid in video_ids]\n",
        "features_df = pd.DataFrame([f for f in feature_data if f is not None])\n",
        "features_df.head()\n",
        "\n",
        "# Merge image features with original DataFrame\n",
        "merged_df = pd.merge(df, features_df, left_on='id', right_on='video_id', how='left')\n",
        "\n",
        "# Drop the redundant 'video_id' column\n",
        "merged_df = merged_df.drop('video_id', axis=1)\n",
        "\n",
        "df = merged_df"
      ],
      "metadata": {
        "id": "q776NQ7xZ8GR"
      },
      "execution_count": null,
      "outputs": []
    },
    {
      "cell_type": "code",
      "source": [
        "from textblob import TextBlob\n",
        "import re\n",
        "\n",
        "# Define sets of keywords\n",
        "clickbait_words = {\n",
        "    \"amazing\", \"incredible\", \"shocking\", \"jaw-dropping\", \"mind-blowing\",\n",
        "    \"unbelievable\", \"you won’t believe\", \"you’ll never guess\", \"what happens next\",\n",
        "    \"epic\", \"ultimate\", \"must\", \"insane\", \"secret\", \"exposed\", \"revealed\",\n",
        "    \"hack\", \"these reasons\", \"10 reasons\", \"this trick\", \"don’t miss\",\n",
        "    \"game changer\", \"craziest\", \"revealed\", \"the truth about\", \"deal of the day\"\n",
        "}\n",
        "\n",
        "power_words = {\n",
        "    \"best\", \"top\", \"new\", \"essential\", \"easy\", \"quick\", \"instant\", \"effortless\",\n",
        "    \"guaranteed\", \"proven\", \"genius\", \"exclusive\", \"remarkable\", \"powerful\",\n",
        "    \"revolutionary\", \"breakthrough\", \"must-have\", \"unlock\", \"master\", \"ultimate\",\n",
        "    \"secret\", \"simple\", \"transform\", \"hacks\", \"tips\", \"tricks\"\n",
        "}\n",
        "\n",
        "timed_words = {\n",
        "    \"now\", \"today\", \"just now\", \"breaking\", \"this morning\", \"this afternoon\",\n",
        "    \"this evening\", \"tonight\", \"this week\", \"this weekend\", \"this month\",\n",
        "    \"this season\", \"this year\", \"last minute\", \"last week\", \"2023\", \"2024\",\n",
        "    \"2025\", \"coming soon\", \"newly released\", \"upcoming\", \"recent\", \"daily\",\n",
        "    \"weekly\", \"monthly\", \"yearly\"\n",
        "}\n",
        "\n",
        "def extract_title_features(title):\n",
        "    blob = TextBlob(title)\n",
        "    words = title.split()\n",
        "    punctuation = set(\"!?.,:;-()[]{}\")\n",
        "\n",
        "    upper_words = [w for w in words if w.isupper()]\n",
        "    letters = re.findall(r'[A-Za-z]', title)\n",
        "    uppercase_letters = [c for c in letters if c.isupper()]\n",
        "    digits = re.findall(r'\\d', title)\n",
        "\n",
        "\n",
        "    clickbait_score = sum(word.lower() in clickbait_words for word in words)\n",
        "    power_word_count = sum(word.lower() in power_words for word in words)\n",
        "    timed_word_count = sum(word.lower() in timed_words for word in words)\n",
        "\n",
        "\n",
        "    return {\n",
        "        \"title_sentiment\": blob.sentiment.polarity,\n",
        "        \"title_subjectivity\": blob.sentiment.subjectivity,\n",
        "        \"num_question_marks\": title.count(\"?\"),\n",
        "        \"num_exclamation_marks\": title.count(\"!\"),\n",
        "        \"starts_with_keyword\": int(words[0].lower() in {\"how\", \"why\", \"what\", \"when\", \"where\", \"who\"} if words else 0),\n",
        "        \"title_length\": len(title),\n",
        "        \"word_count\": len(words),\n",
        "        \"punctuation_count\": sum(1 for c in title if c in punctuation),\n",
        "        \"uppercase_word_count\": len(upper_words),\n",
        "        \"percent_letters_uppercase\": round(len(uppercase_letters) / len(letters), 3) if letters else 0,\n",
        "        \"num_digits\": len(digits),\n",
        "        \"clickbait_score\": clickbait_score,\n",
        "        \"num_power_words\": power_word_count,\n",
        "        \"num_timed_words\": timed_word_count\n",
        "    }"
      ],
      "metadata": {
        "id": "8bjbXyCMSjGe"
      },
      "execution_count": null,
      "outputs": []
    },
    {
      "cell_type": "code",
      "source": [
        "# Load the CSV that has titles in it\n",
        "import pandas as pd\n",
        "\n",
        "title_df = pd.read_csv(url)\n",
        "\n",
        "# Extract only the title and video id from the original csv so we can join it to df by video id to add the title column\n",
        "title_df = title_df[['snippet.title', 'id', 'channel_id', 'statistics.viewCount', 'statistics.likeCount', 'statistics.commentCount']]\n",
        "title_df = title_df.rename(columns={'snippet.title': 'title', 'id': 'video_id', 'statistics.viewCount': 'viewCount', 'statistics.likeCount': 'likeCount', 'statistics.commentCount': 'commentCount'})\n",
        "title_df.head()\n",
        "\n",
        "# Merge to add title column\n",
        "df = pd.merge(df, title_df, left_on='id', right_on='video_id', how='left')\n",
        "df.head()\n",
        "\n",
        "# Apply the extraction function to all titles\n",
        "title_feature_df = df[\"title\"].apply(extract_title_features).apply(pd.Series)\n",
        "\n",
        "# Merge with the original DataFrame\n",
        "df = pd.concat([df, title_feature_df], axis=1)\n",
        "df.head()\n",
        "\n",
        "df = df.rename(columns={'snippet.channelId': 'channel_id'})"
      ],
      "metadata": {
        "id": "annEk9F8TGRE"
      },
      "execution_count": null,
      "outputs": []
    },
    {
      "source": [
        "# \"High performance\" threshold\n",
        "percentile = 0.75\n",
        "\n",
        "# Select the numeric columns *before* grouping and applying quantile\n",
        "thresholds = df[[\"channel_id\", \"viewCount\", \"likeCount\", \"commentCount\"]].groupby(\"channel_id\").quantile(percentile)[\n",
        "    [\"viewCount\", \"likeCount\", \"commentCount\"]\n",
        "].rename(columns={\n",
        "    \"viewCount\": \"views_threshold\",\n",
        "    \"likeCount\": \"likes_threshold\",\n",
        "    \"commentCount\": \"comments_threshold\"\n",
        "}).reset_index()\n",
        "\n",
        "# Merge thresholds into main dataframe (only run once)\n",
        "df = df.merge(thresholds, on=\"channel_id\", how=\"left\")\n",
        "df.head()\n",
        "\n",
        "# Label virality using thresholds\n",
        "df[\"viral\"] = (\n",
        "    (df[\"viewCount\"] > df[\"views_threshold\"]) &\n",
        "    (df[\"likeCount\"] > df[\"likes_threshold\"]) &\n",
        "    (df[\"commentCount\"] > df[\"comments_threshold\"])\n",
        ").astype(int)\n",
        "\n",
        "# Drop the threshold columns from the main DataFrame\n",
        "df = df.drop([\"views_threshold\", \"likes_threshold\", \"comments_threshold\"], axis=1)\n",
        "\n",
        "df.head()\n",
        "\n",
        "# (OPTIONAL FOR DEBUGGING) Calculate the percentage of viral videos\n",
        "viral_percentage = (df[\"viral\"].sum() / len(df)) * 100\n",
        "\n",
        "print(f\"Percentage of viral videos: {viral_percentage:.2f}%\")"
      ],
      "cell_type": "code",
      "metadata": {
        "id": "KPeVTNsmdElG",
        "colab": {
          "base_uri": "https://localhost:8080/"
        },
        "outputId": "ee5638a3-815b-4656-c7a2-2bfafab81215"
      },
      "execution_count": null,
      "outputs": [
        {
          "output_type": "stream",
          "name": "stdout",
          "text": [
            "Percentage of viral videos: 11.14%\n"
          ]
        }
      ]
    },
    {
      "cell_type": "code",
      "source": [
        "# Dropping bad columns/features\n",
        "columns_to_drop = ['kind',\n",
        "                   'etag',\n",
        "                   'channel_id_x',\n",
        "                   'snippet.publishedAt',\n",
        "                   'snippet.title',\n",
        "                   'snippet.thumbnails.default.url',\n",
        "                   'snippet.thumbnails.default.width',\n",
        "                   'snippet.thumbnails.default.height',\n",
        "                   'snippet.thumbnails.medium.url',\n",
        "                   'snippet.thumbnails.medium.width',\n",
        "                   'snippet.thumbnails.medium.height',\n",
        "                   'snippet.thumbnails.high.url',\n",
        "                   'snippet.thumbnails.high.width',\n",
        "                   'snippet.thumbnails.high.height',\n",
        "                   'snippet.thumbnails.standard.url',\n",
        "                   'snippet.thumbnails.standard.width',\n",
        "                   'snippet.thumbnails.standard.height',\n",
        "                   'snippet.thumbnails.maxres.url',\n",
        "                   'snippet.thumbnails.maxres.width',\n",
        "                   'snippet.thumbnails.maxres.height',\n",
        "                   'statistics.viewCount',\n",
        "                   'statistics.likeCount',\n",
        "                   'statistics.commentCount',\n",
        "                   'snippet.channelTitle',\n",
        "                   'snippet.categoryId',\n",
        "                   'snippet.liveBroadcastContent',\n",
        "                  #  'snippet.defaultAudioLanguage',\n",
        "                  #  'snippet.defaultLanguage',\n",
        "                   'title',\n",
        "                   'channel_id_x',\n",
        "                   'channel_id_y',\n",
        "                   'snippet.localized.description',\n",
        "                   'statistics.favoriteCount',\n",
        "                   'id']\n",
        "df = df.drop(columns=columns_to_drop, axis=1)"
      ],
      "metadata": {
        "id": "p-J0PEVQ84KI"
      },
      "execution_count": null,
      "outputs": []
    },
    {
      "cell_type": "code",
      "source": [
        "# Renaming columns for prettier features\n",
        "df = df.rename(columns={'snippet.description': 'description', 'snippet.localized.title': 'title', 'statistics.viewCount': 'viewCount', 'statistics.likeCount': 'likeCount', 'statistics.commentCount': 'commentCount', 'snippet.tags': 'tags'})"
      ],
      "metadata": {
        "id": "Omjv31QZ_at0"
      },
      "execution_count": null,
      "outputs": []
    },
    {
      "cell_type": "code",
      "source": [
        "### Description-based features\n",
        "\n",
        "import re\n",
        "from textblob import TextBlob\n",
        "\n",
        "# Fill NA for descriptions\n",
        "df['description'] = df['description'].fillna('')\n",
        "\n",
        "# Description length\n",
        "df['description_length'] = df['description'].apply(len)\n",
        "\n",
        "# Description sentiment\n",
        "df['description_sentiment'] = df['description'].apply(lambda x: TextBlob(x).sentiment.polarity)\n",
        "\n",
        "# Description has keywords\n",
        "keywords = ['subscribe', 'giveaway', 'limited time', 'offer', 'new video']\n",
        "df['description_has_keywords'] = df['description'].apply(lambda x: any(kw in x.lower() for kw in keywords))"
      ],
      "metadata": {
        "id": "L36OzKgTCjFO"
      },
      "execution_count": null,
      "outputs": []
    },
    {
      "cell_type": "code",
      "source": [
        "### Tag-based features\n",
        "\n",
        "# Fill NA for tags\n",
        "df['tags'] = df['tags'].fillna('').astype(str)\n",
        "\n",
        "# Tag count\n",
        "df['tag_count'] = df['tags'].apply(lambda x: len(x.split(',')) if x else 0)\n",
        "\n",
        "# Tag sentiment\n",
        "df['tag_sentiment'] = df['tags'].apply(lambda x: TextBlob(x).sentiment.polarity)\n",
        "\n",
        "# Unique tags\n",
        "df['num_unique_tags'] = df['tags'].apply(lambda x: len(set(tag.strip().lower() for tag in x.split(','))) if x else 0)"
      ],
      "metadata": {
        "id": "R77_ZzxcEtoL"
      },
      "execution_count": null,
      "outputs": []
    },
    {
      "cell_type": "code",
      "source": [
        "!pip install textstat"
      ],
      "metadata": {
        "colab": {
          "base_uri": "https://localhost:8080/"
        },
        "id": "sn6dEtFjHLES",
        "outputId": "f01ad722-1bca-4925-c354-66a2402fe318"
      },
      "execution_count": null,
      "outputs": [
        {
          "output_type": "stream",
          "name": "stdout",
          "text": [
            "Requirement already satisfied: textstat in /usr/local/lib/python3.11/dist-packages (0.7.7)\n",
            "Requirement already satisfied: pyphen in /usr/local/lib/python3.11/dist-packages (from textstat) (0.17.2)\n",
            "Requirement already satisfied: cmudict in /usr/local/lib/python3.11/dist-packages (from textstat) (1.0.32)\n",
            "Requirement already satisfied: setuptools in /usr/local/lib/python3.11/dist-packages (from textstat) (75.2.0)\n",
            "Requirement already satisfied: importlib-metadata>=5 in /usr/local/lib/python3.11/dist-packages (from cmudict->textstat) (8.7.0)\n",
            "Requirement already satisfied: importlib-resources>=5 in /usr/local/lib/python3.11/dist-packages (from cmudict->textstat) (6.5.2)\n",
            "Requirement already satisfied: zipp>=3.20 in /usr/local/lib/python3.11/dist-packages (from importlib-metadata>=5->cmudict->textstat) (3.23.0)\n"
          ]
        }
      ]
    },
    {
      "cell_type": "code",
      "source": [
        "### Title-based Semantic features\n",
        "\n",
        "from sentence_transformers import SentenceTransformer\n",
        "from sklearn.metrics.pairwise import cosine_similarity\n",
        "import numpy as np\n",
        "import textstat\n",
        "\n",
        "model = SentenceTransformer('all-MiniLM-L6-v2')\n",
        "\n",
        "# Compute title embeddings\n",
        "df['title_embedding'] = df['title'].fillna('').apply(lambda x: model.encode(x, convert_to_tensor=False))\n",
        "\n",
        "# Embedding distance to known viral videos\n",
        "viral_embeddings = df[df['viral'] == 1]['title_embedding'].tolist()\n",
        "\n",
        "def max_cosine_similarity(vec, others):\n",
        "    return np.max(cosine_similarity([vec], others)[0]) if others else 0\n",
        "\n",
        "# Clickbait phrase match\n",
        "clickbait_phrases = ['you won’t believe', 'what happens next', 'this is why', 'top secret', 'never seen before']\n",
        "df['clickbait_phrase_match'] = df['title'].fillna('').str.lower().apply(lambda t: any(p in t for p in clickbait_phrases)).astype(int)\n",
        "\n",
        "# Readability score\n",
        "df['title_readability'] = df['title'].fillna('').apply(lambda x: textstat.flesch_reading_ease(x))\n",
        "\n",
        "# Listicle and tutorial flags\n",
        "df['is_listicle'] = df['title'].str.strip().str.lower().str.match(r'^\\d+').astype(int)\n",
        "df['is_tutorial'] = df['title'].str.lower().str.startswith('how to').astype(int)"
      ],
      "metadata": {
        "id": "1BCZpOogEx4u"
      },
      "execution_count": null,
      "outputs": []
    },
    {
      "cell_type": "code",
      "source": [
        "### Thumbnail-based features\n",
        "import cv2\n",
        "import os\n",
        "from collections import Counter\n",
        "from matplotlib.colors import rgb_to_hsv\n",
        "\n",
        "# Path to thumbnail images, assumes filename = <video_id>.jpg\n",
        "thumbnail_dir = \"/content/thumbnails/\"\n",
        "\n",
        "# Face detection setup\n",
        "face_cascade = cv2.CascadeClassifier(cv2.data.haarcascades + 'haarcascade_frontalface_default.xml')\n",
        "\n",
        "def get_thumbnail_features(video_id):\n",
        "    path = os.path.join(thumbnail_dir, f\"{video_id}.jpg\")\n",
        "    if not os.path.exists(path):\n",
        "        return pd.Series([0, -1, 0.0], index=['num_faces', 'dominant_color_hue', 'thumbnail_edge_density'])\n",
        "\n",
        "    img = cv2.imread(path)\n",
        "    gray = cv2.cvtColor(img, cv2.COLOR_BGR2GRAY)\n",
        "\n",
        "    # Face count\n",
        "    faces = face_cascade.detectMultiScale(gray, 1.1, 4)\n",
        "    num_faces = len(faces)\n",
        "\n",
        "    # Dominant color hue\n",
        "    hsv = cv2.cvtColor(img, cv2.COLOR_BGR2HSV)\n",
        "    hue_channel = hsv[:, :, 0].flatten()\n",
        "    most_common_hue = Counter(hue_channel).most_common(1)[0][0]\n",
        "\n",
        "    # Edge density\n",
        "    edges = cv2.Canny(gray, 100, 200)\n",
        "    edge_density = np.sum(edges > 0) / edges.size\n",
        "\n",
        "    return pd.Series([num_faces, most_common_hue, edge_density], index=['num_faces', 'dominant_color_hue', 'thumbnail_edge_density'])\n",
        "\n",
        "df[['num_faces', 'dominant_color_hue', 'thumbnail_edge_density']] = df['video_id'].apply(get_thumbnail_features)"
      ],
      "metadata": {
        "id": "l2a-OFYvE2Cu"
      },
      "execution_count": null,
      "outputs": []
    },
    {
      "cell_type": "code",
      "source": [
        "### Word Count Refinement\n",
        "\n",
        "# Power/timed word lists\n",
        "power_words = ['secret', 'shocking', 'revealed', 'proven', 'insane']\n",
        "timed_words = ['today', 'now', 'soon', 'in 24 hours', 'this week']\n",
        "\n",
        "def count_matches(text, word_list):\n",
        "    return sum(word in text.lower() for word in word_list)\n",
        "\n",
        "df['power_word_count'] = df['title'].fillna('').apply(lambda x: count_matches(x, power_words))\n",
        "df['timed_word_count'] = df['title'].fillna('').apply(lambda x: count_matches(x, timed_words))\n",
        "df['num_tags'] = df['tags'].apply(lambda x: len(x.split(',')) if x else 0)\n",
        "df['avg_tag_length'] = df['tags'].apply(lambda x: np.mean([len(tag) for tag in x.split(',')]) if x else 0)"
      ],
      "metadata": {
        "id": "izY5l9s-E5MH"
      },
      "execution_count": null,
      "outputs": []
    },
    {
      "cell_type": "code",
      "source": [
        "# Sanity check to see if less interesting features are at all useful\n",
        "\n",
        "timed_word_count_sum = df['timed_word_count'].sum()\n",
        "power_word_count_sum = df['power_word_count'].sum()\n",
        "is_listicle_sum = df['is_listicle'].sum()\n",
        "is_tutorial_sum = df['is_tutorial'].sum()\n",
        "num_faces_sum = df['num_faces'].sum()\n",
        "true_clickbait_matches = df['clickbait_phrase_match'].sum()\n",
        "print(f\"Total number of timed_word_count values: {timed_word_count_sum}\")\n",
        "print(f\"Total number of power_word_count values: {power_word_count_sum}\")\n",
        "print(f\"Total number of is_listicle values: {is_listicle_sum}\")\n",
        "print(f\"Total number of is_tutorial values: {is_tutorial_sum}\")\n",
        "print(f\"Total number of num_faces values: {num_faces_sum}\")\n",
        "print(f\"Total number of true clickbait_phrase_match values: {true_clickbait_matches}\")"
      ],
      "metadata": {
        "colab": {
          "base_uri": "https://localhost:8080/"
        },
        "id": "IzvTJDbxH1Ze",
        "outputId": "b37634cb-ffbf-4eef-8a9b-912a9c49b287"
      },
      "execution_count": null,
      "outputs": [
        {
          "output_type": "stream",
          "name": "stdout",
          "text": [
            "Total number of timed_word_count values: 10\n",
            "Total number of power_word_count values: 15\n",
            "Total number of is_listicle values: 58\n",
            "Total number of is_tutorial values: 1\n",
            "Total number of num_faces values: 200.0\n",
            "Total number of true clickbait_phrase_match values: 0\n"
          ]
        }
      ]
    },
    {
      "cell_type": "code",
      "source": [
        "pip install pytrends"
      ],
      "metadata": {
        "id": "YkSbZMqamZ-k",
        "outputId": "aeef0002-c155-40a7-cd6e-93f191ecc062",
        "colab": {
          "base_uri": "https://localhost:8080/"
        }
      },
      "execution_count": null,
      "outputs": [
        {
          "output_type": "stream",
          "name": "stdout",
          "text": [
            "Requirement already satisfied: pytrends in /usr/local/lib/python3.11/dist-packages (4.9.2)\n",
            "Requirement already satisfied: requests>=2.0 in /usr/local/lib/python3.11/dist-packages (from pytrends) (2.32.3)\n",
            "Requirement already satisfied: pandas>=0.25 in /usr/local/lib/python3.11/dist-packages (from pytrends) (2.2.2)\n",
            "Requirement already satisfied: lxml in /usr/local/lib/python3.11/dist-packages (from pytrends) (5.4.0)\n",
            "Requirement already satisfied: numpy>=1.23.2 in /usr/local/lib/python3.11/dist-packages (from pandas>=0.25->pytrends) (2.0.2)\n",
            "Requirement already satisfied: python-dateutil>=2.8.2 in /usr/local/lib/python3.11/dist-packages (from pandas>=0.25->pytrends) (2.9.0.post0)\n",
            "Requirement already satisfied: pytz>=2020.1 in /usr/local/lib/python3.11/dist-packages (from pandas>=0.25->pytrends) (2025.2)\n",
            "Requirement already satisfied: tzdata>=2022.7 in /usr/local/lib/python3.11/dist-packages (from pandas>=0.25->pytrends) (2025.2)\n",
            "Requirement already satisfied: charset-normalizer<4,>=2 in /usr/local/lib/python3.11/dist-packages (from requests>=2.0->pytrends) (3.4.2)\n",
            "Requirement already satisfied: idna<4,>=2.5 in /usr/local/lib/python3.11/dist-packages (from requests>=2.0->pytrends) (3.10)\n",
            "Requirement already satisfied: urllib3<3,>=1.21.1 in /usr/local/lib/python3.11/dist-packages (from requests>=2.0->pytrends) (2.4.0)\n",
            "Requirement already satisfied: certifi>=2017.4.17 in /usr/local/lib/python3.11/dist-packages (from requests>=2.0->pytrends) (2025.6.15)\n",
            "Requirement already satisfied: six>=1.5 in /usr/local/lib/python3.11/dist-packages (from python-dateutil>=2.8.2->pandas>=0.25->pytrends) (1.17.0)\n"
          ]
        }
      ]
    },
    {
      "cell_type": "code",
      "source": [
        "from typing import List\n",
        "from pytrends.request import TrendReq\n",
        "import requests\n",
        "from bs4 import BeautifulSoup\n",
        "from sentence_transformers import SentenceTransformer\n",
        "from sklearn.metrics.pairwise import cosine_similarity\n",
        "\n",
        "# Load the SentenceTransformer model once at import time.\n",
        "# The weights and config will be downloaded and cached under ./model_cache.\n",
        "MODEL = SentenceTransformer(\n",
        "    \"all-MiniLM-L6-v2\",\n",
        "    cache_folder=\"./model_cache\"\n",
        ")\n",
        "\n",
        "def get_google_trend_score(keywords: List[str]) -> float:\n",
        "    \"\"\"\n",
        "    Fetches daily interest for given keywords from Google Trends and returns\n",
        "    the normalized average score (0.0 to 1.0).\n",
        "    \"\"\"\n",
        "    try:\n",
        "        pytrends = TrendReq()\n",
        "        pytrends.build_payload(keywords, timeframe=\"now 1-d\")\n",
        "        data = pytrends.interest_over_time()\n",
        "        if data.empty:\n",
        "            return 0.0\n",
        "        # values range from 0–100\n",
        "        return float(data[keywords].iloc[-1].mean() / 100)\n",
        "    except Exception:\n",
        "        return 0.0\n",
        "\n",
        "def get_twitter_trend_score(keywords: List[str]) -> float:\n",
        "    \"\"\"\n",
        "    Scrapes Twitter's trending topics page and returns a normalized\n",
        "    count of how many trending hashtags match the provided keywords.\n",
        "    \"\"\"\n",
        "    try:\n",
        "        url = \"https://twitter.com/explore/tabs/trending\"\n",
        "        resp = requests.get(url)\n",
        "        soup = BeautifulSoup(resp.text, \"html.parser\")\n",
        "        hashtags = [tag.get_text().lstrip(\"#\") for tag in soup.find_all(\"span\")]\n",
        "        matches = sum(\n",
        "            1 for kw in keywords\n",
        "            if any(kw.lower() in h.lower() for h in hashtags)\n",
        "        )\n",
        "        max_count = max(len(hashtags), 1)\n",
        "        return matches / max_count\n",
        "    except Exception:\n",
        "        return 0.0\n",
        "\n",
        "def get_youtube_trending_similarity(keywords: List[str]) -> float:\n",
        "    \"\"\"\n",
        "    Scrapes YouTube's trending page and computes the maximum cosine similarity\n",
        "    between the keyword string and any trending video title, using the\n",
        "    preloaded SentenceTransformer model.\n",
        "    \"\"\"\n",
        "    try:\n",
        "        resp = requests.get(\"https://www.youtube.com/feed/trending\")\n",
        "        soup = BeautifulSoup(resp.text, \"html.parser\")\n",
        "        titles = [\n",
        "            t[\"title\"] for t in soup.select(\"a#video-title\")\n",
        "            if t.get(\"title\")\n",
        "        ]\n",
        "        if not titles:\n",
        "            return 0.0\n",
        "\n",
        "        # Encode the query once\n",
        "        query_emb = MODEL.encode(\" \".join(keywords), convert_to_numpy=True)\n",
        "\n",
        "        # Compute similarity against each trending title\n",
        "        sims = []\n",
        "        for title in titles:\n",
        "            title_emb = MODEL.encode(title, convert_to_numpy=True)\n",
        "            sim = cosine_similarity(\n",
        "                query_emb.reshape(1, -1),\n",
        "                title_emb.reshape(1, -1)\n",
        "            )[0][0]\n",
        "            sims.append(sim)\n",
        "\n",
        "        return max(sims)\n",
        "    except Exception:\n",
        "        return 0.0\n",
        "\n",
        "def calculate_trending_score(\n",
        "    keywords: List[str],\n",
        "    w1: float = 0.4,\n",
        "    w2: float = 0.3,\n",
        "    w3: float = 0.3\n",
        ") -> float:\n",
        "    \"\"\"\n",
        "    Combines Google Trends, Twitter, and YouTube similarity scores\n",
        "    into a single trending_score.\n",
        "    \"\"\"\n",
        "    g = get_google_trend_score(keywords)\n",
        "    t = get_twitter_trend_score(keywords)\n",
        "    y = get_youtube_trending_similarity(keywords)\n",
        "    return round(w1 * g + w2 * t + w3 * y, 4)"
      ],
      "metadata": {
        "id": "0mHa4wAEbxjX",
        "colab": {
          "base_uri": "https://localhost:8080/",
          "height": 369,
          "referenced_widgets": [
            "895fb8b0bcc445b2a747673b3f539edb",
            "3f365d3f4ccd42479c58d9a8cd552583",
            "c9f1a848ddd4474faccd80bc3210419b",
            "ad83fed7cabb42d48c4b4af66e52532e",
            "047130f9180d436fa6a4aed4d0f04580",
            "d743553b29984effb5a36cc3d6d61748",
            "9f7e869061f04dcfb7d3bdd02106b117",
            "7581a0548bd141018049fafa142f148d",
            "db384b5c4bc043ab919e282c1b333a5a",
            "0f7157d9b7024232b862036d5ccc3e16",
            "80fb5b7d9b924101b07bc85a5f9676bf",
            "5f9a89b3f29848d484b8593546fadc9c",
            "b35b60d454de417c8e17965cd4156d3f",
            "adc0dc06af1244b58aa2c6b24b8e93f4",
            "44e4444dccb64243b87f3204a91a121d",
            "b19918caa05344c58d671a84137108d7",
            "6660a6a0d9714ece89bd7c905c105b80",
            "b61a35cdc9554457963feced439490b5",
            "04422df26c584151abdecae4166fb940",
            "5efd040d47f74206972ba64b2b4c25e9",
            "39c80277156342ea8026f144f9411461",
            "1370483e96b94d8bbf61427e8998b9fc",
            "8ecb823e08aa4b4da8c873890902e078",
            "a1c582d037eb48debfbf06f02ed7724d",
            "9e82a25b537349b99052ce32f18c6cfe",
            "cf2482ee574444cfb4b20a22068ce886",
            "7e6445ecc1ed48a8b81ac46be73279ee",
            "3b4856b6b509448b9856ba12d1e4746d",
            "77f342e2600d4eaa9fb24ef6739f51ba",
            "9a6f1c9ebb8a451d80b8c9591fce31c5",
            "f5b6d085c81d49e59afac1c8b569cc85",
            "a2f179fe92244ddab39130d727ac8df2",
            "c8f98d5c0d494814872a2d22e1d135b3",
            "d83c5d54e46d47639e47273c15c4bb45",
            "ca224d5036604c7ba923de521844536c",
            "a4ffde1e37ae474b93750b27fdb128ca",
            "056701ace33f4dbfa5363d0a55fac7db",
            "8e2e9a2f1884404d9ce7d4773e019b96",
            "40f358be1b5340a5a4295f10fef9fdc4",
            "fb56f232edfc4babaed252ae9ea1104f",
            "292ae33f4dc24c84afc571fc5b8ad832",
            "623da2d538af4060a0173e5030d0da43",
            "36770500dd884e9eb0636cbbd180f182",
            "c4f50af0fb954290872961c19e0cfeba",
            "03068fe5f695431d8ef1dcb6685f23c2",
            "a286b240b1404fad88fd19951272cda9",
            "8e62ccade53346d7b8c469f82efae7a6",
            "266c686885aa407a91b256f947eb7988",
            "8341f9c097234c239a14988319df0fee",
            "d0979c97a8384f3b94417fa4e83d62d2",
            "1dc227617433481fa50305f64e61d82b",
            "b4892ce3f9614ba282599bdc251f7de3",
            "9f7cf69d92b9485bb8bd60a9e7852ac2",
            "fd48d7c4c94b464b989f3b737cdf590e",
            "411b694a765043a497ae2f42d4b980b4",
            "44bf4c289404400887f81ee953952bd3",
            "1f50694df84f4333b09ef50898749c0a",
            "aca2581becf0423a9ecf995d96d10c8c",
            "b046cdbfc07b46ae893bba182ca99d17",
            "eeb9d418b3c146339908b64b51002299",
            "e77bd45f94b2496996a6f042500c441c",
            "3628fb0e721d4170a4741d3687ca9149",
            "694b682aff81467bab7d194c9f94d427",
            "98f213b1420a4a759b3bddbd6a41f1a7",
            "3d206a51a1b74b3fbbe4207afefca188",
            "5af9fa08bb0148ae9c5c16a44ff37980",
            "72ca132f98494ba7a2160494324cb3a2",
            "500189e660e2449080befb97425717fd",
            "7b431e8d8e7c4224a49abdb787778256",
            "b57ca3d046704519b5fe189c0063877f",
            "d5ba498cf9a64e819e8112e57259c2f0",
            "a6f15350606d45aa8301e8201abb8ba9",
            "2c7f2f2a93dd4613b1a897eb6096e3cd",
            "407a6d91982342158b3e7a3d23d0894b",
            "d83d69721a4c4300ac65c4ec8331de9b",
            "10266360f27a43b290f0bca4d8b244b5",
            "19ac1b8288544664885acea89f39f986",
            "c875ab17f27846ddb2365d354f3a4477",
            "0a406d65a2a34cce969ff8424ed37166",
            "0b70fb85ef3a48bcb37f97bb5ea5c405",
            "a403a417cf8343859ee3a6939d1f443e",
            "18ba57c110b14278a57c70d710c4eb7a",
            "1909a5a884cb401980beca1291b45eaf",
            "0e31c84b9c9f456cb2ada1f51b16d58f",
            "dfcdfbe04f8c4f04a2baac5037ec0b8b",
            "7cb136c315e848ca999a0cb90f697232",
            "76bf7e00b207413d8faaffdf67183d74",
            "b4164495e9fc468fa52c7a3e0b3df92e",
            "8680e1c4717d4303b962500e2821adf2",
            "b8e5fcb4bc9049218d632fdfbd3fab3f",
            "6ecabd9a23cf4fef9a5b49bfe9a7be33",
            "7cb1baf8ee9a4518be8cb8d6ac900bc9",
            "c2d451b3543e4dc6b9167ca1150a5b75",
            "5266b24073db4f8d81f7a844a47ecd50",
            "a690e74530f24b6e900b48d8f31e1994",
            "ec7ee43ca9db49ac8a3382c5d1b74e7e",
            "eb0f85140e214a0b8fec216db9305dbf",
            "a289633752734ba0885f75aa31775961",
            "1505c62dda0e45cf97ac9e854052b18f",
            "7d314760ba02411fbc0952bb6bee5075",
            "b55c615655b24bf9b9dd34c184593b83",
            "64a74e53304047e99b8ea8f2f6c8f8e2",
            "ba45e3af7f8943f7ab212bda1a9fd75f",
            "bbb2d3b2003443dca58f8399129c93f9",
            "43aa07ad0ae743b79c398416acbda0c6",
            "1584f55ae851498797e9a68a27bb18fb",
            "6123651e07f94d11bb43cd19329dca11",
            "f124fee0cc0b4e77aa91ba913dff7dd9",
            "eb2630abb2c54abdb37a7d6212f7a45d",
            "22d89059fe6347e79b18849f00eb8b10",
            "c633cafbf36b4685971af976666ed464",
            "c46349e511dd4d64b173418a21574cdd",
            "a7bb27b72d044384877025007f9415b8",
            "a0902bdfd524437bb0d167886edc67ca",
            "56c4fd9101574dffa85e4b9a3fe4230c",
            "8c911b90c87740d08786e901ae526692",
            "18a0064f93fe431ebea1d12b70abefa6",
            "5389df78d11b4ebb8c406823ccb9d63c",
            "ddb30dc0f3304eeb9bbfb941827262eb",
            "c7875e99889a45558c8da0d03b5b1dbd",
            "cb55821ba1ce4350a5d43304b408c8f4"
          ]
        },
        "outputId": "e9df9445-887d-44b7-f28b-f5f9b5a3cf73"
      },
      "execution_count": null,
      "outputs": [
        {
          "output_type": "display_data",
          "data": {
            "text/plain": [
              "modules.json:   0%|          | 0.00/349 [00:00<?, ?B/s]"
            ],
            "application/vnd.jupyter.widget-view+json": {
              "version_major": 2,
              "version_minor": 0,
              "model_id": "895fb8b0bcc445b2a747673b3f539edb"
            }
          },
          "metadata": {}
        },
        {
          "output_type": "display_data",
          "data": {
            "text/plain": [
              "config_sentence_transformers.json:   0%|          | 0.00/116 [00:00<?, ?B/s]"
            ],
            "application/vnd.jupyter.widget-view+json": {
              "version_major": 2,
              "version_minor": 0,
              "model_id": "5f9a89b3f29848d484b8593546fadc9c"
            }
          },
          "metadata": {}
        },
        {
          "output_type": "display_data",
          "data": {
            "text/plain": [
              "README.md: 0.00B [00:00, ?B/s]"
            ],
            "application/vnd.jupyter.widget-view+json": {
              "version_major": 2,
              "version_minor": 0,
              "model_id": "8ecb823e08aa4b4da8c873890902e078"
            }
          },
          "metadata": {}
        },
        {
          "output_type": "display_data",
          "data": {
            "text/plain": [
              "sentence_bert_config.json:   0%|          | 0.00/53.0 [00:00<?, ?B/s]"
            ],
            "application/vnd.jupyter.widget-view+json": {
              "version_major": 2,
              "version_minor": 0,
              "model_id": "d83c5d54e46d47639e47273c15c4bb45"
            }
          },
          "metadata": {}
        },
        {
          "output_type": "display_data",
          "data": {
            "text/plain": [
              "config.json:   0%|          | 0.00/612 [00:00<?, ?B/s]"
            ],
            "application/vnd.jupyter.widget-view+json": {
              "version_major": 2,
              "version_minor": 0,
              "model_id": "03068fe5f695431d8ef1dcb6685f23c2"
            }
          },
          "metadata": {}
        },
        {
          "output_type": "display_data",
          "data": {
            "text/plain": [
              "model.safetensors:   0%|          | 0.00/90.9M [00:00<?, ?B/s]"
            ],
            "application/vnd.jupyter.widget-view+json": {
              "version_major": 2,
              "version_minor": 0,
              "model_id": "44bf4c289404400887f81ee953952bd3"
            }
          },
          "metadata": {}
        },
        {
          "output_type": "display_data",
          "data": {
            "text/plain": [
              "tokenizer_config.json:   0%|          | 0.00/350 [00:00<?, ?B/s]"
            ],
            "application/vnd.jupyter.widget-view+json": {
              "version_major": 2,
              "version_minor": 0,
              "model_id": "72ca132f98494ba7a2160494324cb3a2"
            }
          },
          "metadata": {}
        },
        {
          "output_type": "display_data",
          "data": {
            "text/plain": [
              "vocab.txt: 0.00B [00:00, ?B/s]"
            ],
            "application/vnd.jupyter.widget-view+json": {
              "version_major": 2,
              "version_minor": 0,
              "model_id": "c875ab17f27846ddb2365d354f3a4477"
            }
          },
          "metadata": {}
        },
        {
          "output_type": "display_data",
          "data": {
            "text/plain": [
              "tokenizer.json: 0.00B [00:00, ?B/s]"
            ],
            "application/vnd.jupyter.widget-view+json": {
              "version_major": 2,
              "version_minor": 0,
              "model_id": "8680e1c4717d4303b962500e2821adf2"
            }
          },
          "metadata": {}
        },
        {
          "output_type": "display_data",
          "data": {
            "text/plain": [
              "special_tokens_map.json:   0%|          | 0.00/112 [00:00<?, ?B/s]"
            ],
            "application/vnd.jupyter.widget-view+json": {
              "version_major": 2,
              "version_minor": 0,
              "model_id": "7d314760ba02411fbc0952bb6bee5075"
            }
          },
          "metadata": {}
        },
        {
          "output_type": "display_data",
          "data": {
            "text/plain": [
              "config.json:   0%|          | 0.00/190 [00:00<?, ?B/s]"
            ],
            "application/vnd.jupyter.widget-view+json": {
              "version_major": 2,
              "version_minor": 0,
              "model_id": "c633cafbf36b4685971af976666ed464"
            }
          },
          "metadata": {}
        }
      ]
    },
    {
      "cell_type": "code",
      "source": [
        "# Remove description features\n",
        "columns_to_drop = ['description', 'description_length', 'description_sentiment', 'description_has_keywords']\n",
        "df = df.drop(columns=columns_to_drop, axis=1)"
      ],
      "metadata": {
        "id": "p1kFIHGeeqGn"
      },
      "execution_count": null,
      "outputs": []
    },
    {
      "cell_type": "code",
      "source": [
        "# Leave only features, remove conceptual data (title, tags, etc.)\n",
        "columns_to_drop = ['title', 'tags', 'video_id', 'channel_id']\n",
        "df = df.drop(columns=columns_to_drop, axis=1)"
      ],
      "metadata": {
        "id": "kYX6i2UNezRk"
      },
      "execution_count": null,
      "outputs": []
    },
    {
      "cell_type": "code",
      "source": [
        "# Remove 'title_embedding' until we can find a way to use it with our model\n",
        "columns_to_drop = ['title_embedding']\n",
        "df = df.drop(columns=columns_to_drop, axis=1)"
      ],
      "metadata": {
        "id": "hplQTRSYjwon"
      },
      "execution_count": null,
      "outputs": []
    },
    {
      "cell_type": "code",
      "source": [
        "print(df.columns)"
      ],
      "metadata": {
        "colab": {
          "base_uri": "https://localhost:8080/"
        },
        "id": "SeUZofHBhCj1",
        "outputId": "ac6a210d-524a-4461-d22c-61551d7e9989"
      },
      "execution_count": null,
      "outputs": [
        {
          "output_type": "stream",
          "name": "stdout",
          "text": [
            "Index(['avg_red', 'avg_green', 'avg_blue', 'brightness', 'contrast',\n",
            "       'viewCount', 'likeCount', 'commentCount', 'title_sentiment',\n",
            "       'title_subjectivity', 'num_question_marks', 'num_exclamation_marks',\n",
            "       'starts_with_keyword', 'title_length', 'word_count',\n",
            "       'punctuation_count', 'uppercase_word_count',\n",
            "       'percent_letters_uppercase', 'num_digits', 'clickbait_score',\n",
            "       'num_power_words', 'num_timed_words', 'viral', 'tag_count',\n",
            "       'tag_sentiment', 'num_unique_tags', 'clickbait_phrase_match',\n",
            "       'title_readability', 'is_listicle', 'is_tutorial', 'num_faces',\n",
            "       'dominant_color_hue', 'thumbnail_edge_density', 'power_word_count',\n",
            "       'timed_word_count', 'num_tags', 'avg_tag_length'],\n",
            "      dtype='object')\n"
          ]
        }
      ]
    },
    {
      "cell_type": "code",
      "source": [
        "# Export\n",
        "df.to_csv(\"feature_data.csv\", index=False)"
      ],
      "metadata": {
        "id": "gyRBXZ4HE-sq"
      },
      "execution_count": null,
      "outputs": []
    }
  ]
}