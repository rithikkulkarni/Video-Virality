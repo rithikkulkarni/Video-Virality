{
  "nbformat": 4,
  "nbformat_minor": 0,
  "metadata": {
    "colab": {
      "provenance": [],
      "include_colab_link": true
    },
    "kernelspec": {
      "name": "python3",
      "display_name": "Python 3"
    },
    "language_info": {
      "name": "python"
    }
  },
  "cells": [
    {
      "cell_type": "markdown",
      "metadata": {
        "id": "view-in-github",
        "colab_type": "text"
      },
      "source": [
        "<a href=\"https://colab.research.google.com/github/rithikkulkarni/Video-Virality/blob/main/notebooks/classification_modeling.ipynb\" target=\"_parent\"><img src=\"https://colab.research.google.com/assets/colab-badge.svg\" alt=\"Open In Colab\"/></a>"
      ]
    },
    {
      "cell_type": "markdown",
      "source": [
        "# 🚀 YouTube Video Virality – Binary Classification\n",
        "This notebook builds classification models to predict whether a YouTube video will go **viral (1)** or **not viral (0)** using image and text-based features.\n"
      ],
      "metadata": {
        "id": "OvOUEGsQADFt"
      }
    },
    {
      "cell_type": "code",
      "source": [
        "import pandas as pd\n",
        "\n",
        "url = \"https://raw.githubusercontent.com/rithikkulkarni/Video-Virality/refs/heads/main/data/video_details_v8.csv\"\n",
        "df = pd.read_csv(url)\n",
        "df.head()\n",
        "df.columns"
      ],
      "metadata": {
        "id": "QZHSKZtBgVcr",
        "outputId": "e77db8fa-78e5-42fb-e1b3-9e010fbabec4",
        "colab": {
          "base_uri": "https://localhost:8080/"
        }
      },
      "execution_count": 28,
      "outputs": [
        {
          "output_type": "execute_result",
          "data": {
            "text/plain": [
              "Index(['channel_id', 'description', 'tags', 'title', 'avg_red', 'avg_green',\n",
              "       'avg_blue', 'brightness', 'contrast', 'video_id', 'viewCount',\n",
              "       'likeCount', 'commentCount', 'title_sentiment', 'title_subjectivity',\n",
              "       'has_question', 'has_exclamation', 'starts_with_keyword',\n",
              "       'title_length', 'word_count', 'punctuation_count',\n",
              "       'uppercase_word_count', 'percent_letters_uppercase', 'has_numbers',\n",
              "       'clickbait_score', 'viral', 'description_length',\n",
              "       'description_sentiment', 'description_has_keywords', 'tag_count',\n",
              "       'tag_sentiment', 'num_unique_tags', 'title_embedding',\n",
              "       'embedding_distance_to_known_viral', 'title_readability',\n",
              "       'title_embedding_distance_to_viral', 'dominant_color_hue',\n",
              "       'thumbnail_edge_density', 'viewCount_log', 'likeCount_log',\n",
              "       'commentCount_log'],\n",
              "      dtype='object')"
            ]
          },
          "metadata": {},
          "execution_count": 28
        }
      ]
    },
    {
      "cell_type": "code",
      "source": [
        "from sklearn.model_selection import StratifiedKFold, cross_validate\n",
        "from sklearn.metrics import roc_auc_score, precision_score, recall_score, roc_curve\n",
        "from sklearn.preprocessing import StandardScaler\n",
        "from imblearn.pipeline import Pipeline as ImbPipeline\n",
        "from imblearn.over_sampling import SMOTE\n",
        "from xgboost import XGBClassifier\n",
        "from sklearn.ensemble import RandomForestClassifier\n",
        "import matplotlib.pyplot as plt\n",
        "import numpy as np\n",
        "\n",
        "X = df.drop(columns=[\"video_id\", \"title\", \"channel_id\",\n",
        "    \"viewCount\", \"likeCount\", \"commentCount\", \"viral\", \"description\", \"tags\", \"title_embedding\", \"viewCount_log\", \"likeCount_log\", \"commentCount_log\"])\n",
        "y = df['viral']\n",
        "\n",
        "# Scale features\n",
        "scaler = StandardScaler()\n",
        "X_scaled = scaler.fit_transform(X)"
      ],
      "metadata": {
        "id": "uICjQ4mIfzkc"
      },
      "execution_count": 29,
      "outputs": []
    },
    {
      "cell_type": "code",
      "source": [
        "X.columns"
      ],
      "metadata": {
        "id": "OuQ6Nnq_g9ad",
        "outputId": "b1de4b94-e311-46b9-f40b-6be9fa9ac22e",
        "colab": {
          "base_uri": "https://localhost:8080/"
        }
      },
      "execution_count": 30,
      "outputs": [
        {
          "output_type": "execute_result",
          "data": {
            "text/plain": [
              "Index(['avg_red', 'avg_green', 'avg_blue', 'brightness', 'contrast',\n",
              "       'title_sentiment', 'title_subjectivity', 'has_question',\n",
              "       'has_exclamation', 'starts_with_keyword', 'title_length', 'word_count',\n",
              "       'punctuation_count', 'uppercase_word_count',\n",
              "       'percent_letters_uppercase', 'has_numbers', 'clickbait_score',\n",
              "       'description_length', 'description_sentiment',\n",
              "       'description_has_keywords', 'tag_count', 'tag_sentiment',\n",
              "       'num_unique_tags', 'embedding_distance_to_known_viral',\n",
              "       'title_readability', 'title_embedding_distance_to_viral',\n",
              "       'dominant_color_hue', 'thumbnail_edge_density'],\n",
              "      dtype='object')"
            ]
          },
          "metadata": {},
          "execution_count": 30
        }
      ]
    },
    {
      "cell_type": "code",
      "source": [
        "cv = StratifiedKFold(n_splits=10, shuffle=True, random_state=42)\n",
        "\n",
        "models = {\n",
        "    \"XGBoost\": ImbPipeline([\n",
        "        (\"smote\", SMOTE(random_state=42)),\n",
        "        (\"clf\", XGBClassifier(\n",
        "            scale_pos_weight=(sum(y == 0) / sum(y == 1)),\n",
        "            use_label_encoder=False,\n",
        "            eval_metric=\"logloss\",\n",
        "            random_state=42))\n",
        "    ]),\n",
        "    \"SMOTE + Random Forest\": ImbPipeline([\n",
        "        (\"smote\", SMOTE(random_state=42)),\n",
        "        (\"clf\", RandomForestClassifier(n_estimators=100, random_state=42))\n",
        "    ])\n",
        "}"
      ],
      "metadata": {
        "id": "rQqqBFd6f1Rg"
      },
      "execution_count": 31,
      "outputs": []
    },
    {
      "cell_type": "code",
      "source": [
        "from sklearn.model_selection import cross_val_predict\n",
        "from sklearn.metrics import classification_report, confusion_matrix\n",
        "\n",
        "for name, pipeline in models.items():\n",
        "    print(f\"\\n🔍 {name} – 10-Fold Cross-Validation\")\n",
        "\n",
        "    # Collect predictions and probabilities via CV\n",
        "    preds = cross_val_predict(pipeline, X_scaled, y, cv=cv, method='predict')\n",
        "    probs = cross_val_predict(pipeline, X_scaled, y, cv=cv, method='predict_proba')[:, 1]\n",
        "\n",
        "    # Evaluation metrics\n",
        "    precision = precision_score(y, preds)\n",
        "    recall = recall_score(y, preds)\n",
        "    roc_auc = roc_auc_score(y, probs)\n",
        "\n",
        "    print(f\"Precision: {precision:.3f}\")\n",
        "    print(f\"Recall: {recall:.3f}\")\n",
        "    print(f\"ROC AUC: {roc_auc:.3f}\")\n",
        "    print(\"\\nClassification Report:\")\n",
        "    print(classification_report(y, preds, digits=3))\n",
        "\n",
        "    # Confusion Matrix\n",
        "    cm = confusion_matrix(y, preds)\n",
        "    import seaborn as sns\n",
        "    sns.heatmap(cm, annot=True, fmt=\"d\", cmap=\"Blues\", xticklabels=[\"Not Viral\", \"Viral\"], yticklabels=[\"Not Viral\", \"Viral\"])\n",
        "    # plt.title(f\"{name} – Confusion Matrix\")\n",
        "    # plt.xlabel(\"Predicted\")\n",
        "    # plt.ylabel(\"Actual\")\n",
        "    # plt.show()\n",
        "\n",
        "    # ROC Curve\n",
        "    fpr, tpr, _ = roc_curve(y, probs)\n",
        "    plt.plot(fpr, tpr, label=f\"{name} (AUC = {roc_auc:.2f})\")"
      ],
      "metadata": {
        "id": "ThNcSqU7f2kC",
        "outputId": "32f33fe5-cd09-42de-be0b-d333bb24ab12",
        "colab": {
          "base_uri": "https://localhost:8080/",
          "height": 1000
        }
      },
      "execution_count": 32,
      "outputs": [
        {
          "output_type": "stream",
          "name": "stdout",
          "text": [
            "\n",
            "🔍 XGBoost – 10-Fold Cross-Validation\n"
          ]
        },
        {
          "output_type": "stream",
          "name": "stderr",
          "text": [
            "/usr/local/lib/python3.11/dist-packages/xgboost/core.py:158: UserWarning: [08:49:38] WARNING: /workspace/src/learner.cc:740: \n",
            "Parameters: { \"use_label_encoder\" } are not used.\n",
            "\n",
            "  warnings.warn(smsg, UserWarning)\n",
            "/usr/local/lib/python3.11/dist-packages/xgboost/core.py:158: UserWarning: [08:49:38] WARNING: /workspace/src/learner.cc:740: \n",
            "Parameters: { \"use_label_encoder\" } are not used.\n",
            "\n",
            "  warnings.warn(smsg, UserWarning)\n",
            "/usr/local/lib/python3.11/dist-packages/xgboost/core.py:158: UserWarning: [08:49:38] WARNING: /workspace/src/learner.cc:740: \n",
            "Parameters: { \"use_label_encoder\" } are not used.\n",
            "\n",
            "  warnings.warn(smsg, UserWarning)\n",
            "/usr/local/lib/python3.11/dist-packages/xgboost/core.py:158: UserWarning: [08:49:38] WARNING: /workspace/src/learner.cc:740: \n",
            "Parameters: { \"use_label_encoder\" } are not used.\n",
            "\n",
            "  warnings.warn(smsg, UserWarning)\n",
            "/usr/local/lib/python3.11/dist-packages/xgboost/core.py:158: UserWarning: [08:49:39] WARNING: /workspace/src/learner.cc:740: \n",
            "Parameters: { \"use_label_encoder\" } are not used.\n",
            "\n",
            "  warnings.warn(smsg, UserWarning)\n",
            "/usr/local/lib/python3.11/dist-packages/xgboost/core.py:158: UserWarning: [08:49:39] WARNING: /workspace/src/learner.cc:740: \n",
            "Parameters: { \"use_label_encoder\" } are not used.\n",
            "\n",
            "  warnings.warn(smsg, UserWarning)\n",
            "/usr/local/lib/python3.11/dist-packages/xgboost/core.py:158: UserWarning: [08:49:39] WARNING: /workspace/src/learner.cc:740: \n",
            "Parameters: { \"use_label_encoder\" } are not used.\n",
            "\n",
            "  warnings.warn(smsg, UserWarning)\n",
            "/usr/local/lib/python3.11/dist-packages/xgboost/core.py:158: UserWarning: [08:49:39] WARNING: /workspace/src/learner.cc:740: \n",
            "Parameters: { \"use_label_encoder\" } are not used.\n",
            "\n",
            "  warnings.warn(smsg, UserWarning)\n",
            "/usr/local/lib/python3.11/dist-packages/xgboost/core.py:158: UserWarning: [08:49:39] WARNING: /workspace/src/learner.cc:740: \n",
            "Parameters: { \"use_label_encoder\" } are not used.\n",
            "\n",
            "  warnings.warn(smsg, UserWarning)\n",
            "/usr/local/lib/python3.11/dist-packages/xgboost/core.py:158: UserWarning: [08:49:39] WARNING: /workspace/src/learner.cc:740: \n",
            "Parameters: { \"use_label_encoder\" } are not used.\n",
            "\n",
            "  warnings.warn(smsg, UserWarning)\n",
            "/usr/local/lib/python3.11/dist-packages/xgboost/core.py:158: UserWarning: [08:49:40] WARNING: /workspace/src/learner.cc:740: \n",
            "Parameters: { \"use_label_encoder\" } are not used.\n",
            "\n",
            "  warnings.warn(smsg, UserWarning)\n",
            "/usr/local/lib/python3.11/dist-packages/xgboost/core.py:158: UserWarning: [08:49:41] WARNING: /workspace/src/learner.cc:740: \n",
            "Parameters: { \"use_label_encoder\" } are not used.\n",
            "\n",
            "  warnings.warn(smsg, UserWarning)\n",
            "/usr/local/lib/python3.11/dist-packages/xgboost/core.py:158: UserWarning: [08:49:41] WARNING: /workspace/src/learner.cc:740: \n",
            "Parameters: { \"use_label_encoder\" } are not used.\n",
            "\n",
            "  warnings.warn(smsg, UserWarning)\n",
            "/usr/local/lib/python3.11/dist-packages/xgboost/core.py:158: UserWarning: [08:49:41] WARNING: /workspace/src/learner.cc:740: \n",
            "Parameters: { \"use_label_encoder\" } are not used.\n",
            "\n",
            "  warnings.warn(smsg, UserWarning)\n",
            "/usr/local/lib/python3.11/dist-packages/xgboost/core.py:158: UserWarning: [08:49:41] WARNING: /workspace/src/learner.cc:740: \n",
            "Parameters: { \"use_label_encoder\" } are not used.\n",
            "\n",
            "  warnings.warn(smsg, UserWarning)\n",
            "/usr/local/lib/python3.11/dist-packages/xgboost/core.py:158: UserWarning: [08:49:42] WARNING: /workspace/src/learner.cc:740: \n",
            "Parameters: { \"use_label_encoder\" } are not used.\n",
            "\n",
            "  warnings.warn(smsg, UserWarning)\n",
            "/usr/local/lib/python3.11/dist-packages/xgboost/core.py:158: UserWarning: [08:49:42] WARNING: /workspace/src/learner.cc:740: \n",
            "Parameters: { \"use_label_encoder\" } are not used.\n",
            "\n",
            "  warnings.warn(smsg, UserWarning)\n",
            "/usr/local/lib/python3.11/dist-packages/xgboost/core.py:158: UserWarning: [08:49:42] WARNING: /workspace/src/learner.cc:740: \n",
            "Parameters: { \"use_label_encoder\" } are not used.\n",
            "\n",
            "  warnings.warn(smsg, UserWarning)\n",
            "/usr/local/lib/python3.11/dist-packages/xgboost/core.py:158: UserWarning: [08:49:42] WARNING: /workspace/src/learner.cc:740: \n",
            "Parameters: { \"use_label_encoder\" } are not used.\n",
            "\n",
            "  warnings.warn(smsg, UserWarning)\n",
            "/usr/local/lib/python3.11/dist-packages/xgboost/core.py:158: UserWarning: [08:49:42] WARNING: /workspace/src/learner.cc:740: \n",
            "Parameters: { \"use_label_encoder\" } are not used.\n",
            "\n",
            "  warnings.warn(smsg, UserWarning)\n"
          ]
        },
        {
          "output_type": "stream",
          "name": "stdout",
          "text": [
            "Precision: 0.931\n",
            "Recall: 0.990\n",
            "ROC AUC: 0.997\n",
            "\n",
            "Classification Report:\n",
            "              precision    recall  f1-score   support\n",
            "\n",
            "           0      0.999     0.994     0.997      1191\n",
            "           1      0.931     0.990     0.960        96\n",
            "\n",
            "    accuracy                          0.994      1287\n",
            "   macro avg      0.965     0.992     0.978      1287\n",
            "weighted avg      0.994     0.994     0.994      1287\n",
            "\n",
            "\n",
            "🔍 SMOTE + Random Forest – 10-Fold Cross-Validation\n",
            "Precision: 0.931\n",
            "Recall: 0.990\n",
            "ROC AUC: 0.999\n",
            "\n",
            "Classification Report:\n",
            "              precision    recall  f1-score   support\n",
            "\n",
            "           0      0.999     0.994     0.997      1191\n",
            "           1      0.931     0.990     0.960        96\n",
            "\n",
            "    accuracy                          0.994      1287\n",
            "   macro avg      0.965     0.992     0.978      1287\n",
            "weighted avg      0.994     0.994     0.994      1287\n",
            "\n"
          ]
        },
        {
          "output_type": "display_data",
          "data": {
            "text/plain": [
              "<Figure size 640x480 with 3 Axes>"
            ],
            "image/png": "[encoded data removed]"
          },
          "metadata": {}
        }
      ]
    }
  ]
}