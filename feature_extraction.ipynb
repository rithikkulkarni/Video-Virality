{
  "nbformat": 4,
  "nbformat_minor": 0,
  "metadata": {
    "colab": {
      "provenance": [],
      "authorship_tag": "ABX9TyOlbuHekzQ+Ha2L12atNsag",
      "include_colab_link": true
    },
    "kernelspec": {
      "name": "python3",
      "display_name": "Python 3"
    },
    "language_info": {
      "name": "python"
    }
  },
  "cells": [
    {
      "cell_type": "markdown",
      "metadata": {
        "id": "view-in-github",
        "colab_type": "text"
      },
      "source": [
        "<a href=\"https://colab.research.google.com/github/rithikkulkarni/Video-Virality-Testing/blob/main/feature_extraction.ipynb\" target=\"_parent\"><img src=\"https://colab.research.google.com/assets/colab-badge.svg\" alt=\"Open In Colab\"/></a>"
      ]
    },
    {
      "cell_type": "markdown",
      "source": [
        "# Extraction: Run as group\n"
      ],
      "metadata": {
        "id": "ys7SQV3id_L_"
      }
    },
    {
      "cell_type": "code",
      "source": [
        "filename = \"clipsjoy.csv\"\n",
        "\n",
        "# Load the CSV\n",
        "import pandas as pd\n",
        "\n",
        "url = f\"https://raw.githubusercontent.com/rithikkulkarni/Video-Virality-Testing/refs/heads/main/data/{filename}\"\n",
        "df = pd.read_csv(url)\n",
        "df.head()"
      ],
      "metadata": {
        "id": "aiorXGcOZsJz",
        "outputId": "ff765c0e-3f42-4bc9-87bc-8d4b3969c028",
        "colab": {
          "base_uri": "https://localhost:8080/",
          "height": 603
        }
      },
      "execution_count": null,
      "outputs": [
        {
          "output_type": "execute_result",
          "data": {
            "text/plain": [
              "            kind                         etag           id  \\\n",
              "0  youtube#video  74faJ5K8tRTdCsqs_PCfKv-MzPs  _fc9JPIDq24   \n",
              "1  youtube#video  CZdvuqxHGJEp9WcnYxi_EpFOK1Y  eSrxybQRoCQ   \n",
              "2  youtube#video  vjk5-2VRY_zFmit7GgB5rAerj5M  rvHHDG4XnWk   \n",
              "3  youtube#video  RoiQp8R8_WvWNVR6B0TBET-cMlU  8HcnGACiegA   \n",
              "4  youtube#video  2rs9CuPKHUafmLaPFajuVHP1sJo  4rNxrXDb3do   \n",
              "\n",
              "                 channel_id   snippet.publishedAt         snippet.channelId  \\\n",
              "0  UCUyAA4Ekq5nHmr5mjZ-L4eA  2023-09-01T07:16:35Z  UCUyAA4Ekq5nHmr5mjZ-L4eA   \n",
              "1  UCUyAA4Ekq5nHmr5mjZ-L4eA  2023-09-01T00:14:23Z  UCUyAA4Ekq5nHmr5mjZ-L4eA   \n",
              "2  UCUyAA4Ekq5nHmr5mjZ-L4eA  2023-08-28T22:31:12Z  UCUyAA4Ekq5nHmr5mjZ-L4eA   \n",
              "3  UCUyAA4Ekq5nHmr5mjZ-L4eA  2023-08-28T22:14:15Z  UCUyAA4Ekq5nHmr5mjZ-L4eA   \n",
              "4  UCUyAA4Ekq5nHmr5mjZ-L4eA  2023-08-27T00:01:51Z  UCUyAA4Ekq5nHmr5mjZ-L4eA   \n",
              "\n",
              "                                       snippet.title  \\\n",
              "0  Nadeshot UPSET over GUARD Decision #tarik #sho...   \n",
              "1  When SHROUD Was On Sentinels #shorts #valorant...   \n",
              "2  FNS EXPLAINS Sentinels Roster & EG vs LOUD Exp...   \n",
              "3           NRG s0m & FNS EXPLAIN Leaving NRG Roster   \n",
              "4  Evil Geniuses Are YOUR VALORANT CHAMPIONS | Ta...   \n",
              "\n",
              "                                 snippet.description  \\\n",
              "0                                                NaN   \n",
              "1                                                NaN   \n",
              "2  FNS on Sentinels Roster & EG vs LOUD Expectati...   \n",
              "3  NRG s0m & FNS on WHY They're Leaving The NRG R...   \n",
              "4  SEN Tarik, TenZ, Zekken, Rawkus React to EG WI...   \n",
              "\n",
              "                   snippet.thumbnails.default.url  \\\n",
              "0  https://i.ytimg.com/vi/_fc9JPIDq24/default.jpg   \n",
              "1  https://i.ytimg.com/vi/eSrxybQRoCQ/default.jpg   \n",
              "2  https://i.ytimg.com/vi/rvHHDG4XnWk/default.jpg   \n",
              "3  https://i.ytimg.com/vi/8HcnGACiegA/default.jpg   \n",
              "4  https://i.ytimg.com/vi/4rNxrXDb3do/default.jpg   \n",
              "\n",
              "   snippet.thumbnails.default.width  ...  snippet.channelTitle  \\\n",
              "0                               120  ...              ClipsJoy   \n",
              "1                               120  ...              ClipsJoy   \n",
              "2                               120  ...              ClipsJoy   \n",
              "3                               120  ...              ClipsJoy   \n",
              "4                               120  ...              ClipsJoy   \n",
              "\n",
              "                                        snippet.tags  snippet.categoryId  \\\n",
              "0  ['The GUARD', 'Nadeshot', 'Valorant', 'Riot', ...                  20   \n",
              "1                                                NaN                  20   \n",
              "2  ['jarso', 'stewie2k', 'tarik', 'shahzam', 'sin...                  20   \n",
              "3  ['jarso', 'stewie2k', 'tarik', 'shahzam', 'sin...                  20   \n",
              "4  ['jarso', 'stewie2k', 'tarik', 'shahzam', 'sin...                  20   \n",
              "\n",
              "   snippet.liveBroadcastContent  \\\n",
              "0                          none   \n",
              "1                          none   \n",
              "2                          none   \n",
              "3                          none   \n",
              "4                          none   \n",
              "\n",
              "                             snippet.localized.title  \\\n",
              "0  Nadeshot UPSET over GUARD Decision #tarik #sho...   \n",
              "1  When SHROUD Was On Sentinels #shorts #valorant...   \n",
              "2  FNS EXPLAINS Sentinels Roster & EG vs LOUD Exp...   \n",
              "3           NRG s0m & FNS EXPLAIN Leaving NRG Roster   \n",
              "4  Evil Geniuses Are YOUR VALORANT CHAMPIONS | Ta...   \n",
              "\n",
              "                       snippet.localized.description  statistics.viewCount  \\\n",
              "0                                                NaN                   162   \n",
              "1                                                NaN                  4803   \n",
              "2  FNS on Sentinels Roster & EG vs LOUD Expectati...                  4333   \n",
              "3  NRG s0m & FNS on WHY They're Leaving The NRG R...                  2273   \n",
              "4  SEN Tarik, TenZ, Zekken, Rawkus React to EG WI...                   711   \n",
              "\n",
              "  statistics.likeCount  statistics.favoriteCount  statistics.commentCount  \n",
              "0                    5                         0                        0  \n",
              "1                  101                         0                        0  \n",
              "2                   32                         0                       10  \n",
              "3                   15                         0                        1  \n",
              "4                    8                         0                        0  \n",
              "\n",
              "[5 rows x 33 columns]"
            ],
            "text/html": [
              "\n",
              "  <div id=\"df-a1023ff3-0e19-4acd-a0cc-5e91a37c7bbf\" class=\"colab-df-container\">\n",
              "    <div>\n",
              "<style scoped>\n",
              "    .dataframe tbody tr th:only-of-type {\n",
              "        vertical-align: middle;\n",
              "    }\n",
              "\n",
              "    .dataframe tbody tr th {\n",
              "        vertical-align: top;\n",
              "    }\n",
              "\n",
              "    .dataframe thead th {\n",
              "        text-align: right;\n",
              "    }\n",
              "</style>\n",
              "<table border=\"1\" class=\"dataframe\">\n",
              "  <thead>\n",
              "    <tr style=\"text-align: right;\">\n",
              "      <th></th>\n",
              "      <th>kind</th>\n",
              "      <th>etag</th>\n",
              "      <th>id</th>\n",
              "      <th>channel_id</th>\n",
              "      <th>snippet.publishedAt</th>\n",
              "      <th>snippet.channelId</th>\n",
              "      <th>snippet.title</th>\n",
              "      <th>snippet.description</th>\n",
              "      <th>snippet.thumbnails.default.url</th>\n",
              "      <th>snippet.thumbnails.default.width</th>\n",
              "      <th>...</th>\n",
              "      <th>snippet.channelTitle</th>\n",
              "      <th>snippet.tags</th>\n",
              "      <th>snippet.categoryId</th>\n",
              "      <th>snippet.liveBroadcastContent</th>\n",
              "      <th>snippet.localized.title</th>\n",
              "      <th>snippet.localized.description</th>\n",
              "      <th>statistics.viewCount</th>\n",
              "      <th>statistics.likeCount</th>\n",
              "      <th>statistics.favoriteCount</th>\n",
              "      <th>statistics.commentCount</th>\n",
              "    </tr>\n",
              "  </thead>\n",
              "  <tbody>\n",
              "    <tr>\n",
              "      <th>0</th>\n",
              "      <td>youtube#video</td>\n",
              "      <td>74faJ5K8tRTdCsqs_PCfKv-MzPs</td>\n",
              "      <td>_fc9JPIDq24</td>\n",
              "      <td>UCUyAA4Ekq5nHmr5mjZ-L4eA</td>\n",
              "      <td>2023-09-01T07:16:35Z</td>\n",
              "      <td>UCUyAA4Ekq5nHmr5mjZ-L4eA</td>\n",
              "      <td>Nadeshot UPSET over GUARD Decision #tarik #sho...</td>\n",
              "      <td>NaN</td>\n",
              "      <td>https://i.ytimg.com/vi/_fc9JPIDq24/default.jpg</td>\n",
              "      <td>120</td>\n",
              "      <td>...</td>\n",
              "      <td>ClipsJoy</td>\n",
              "      <td>['The GUARD', 'Nadeshot', 'Valorant', 'Riot', ...</td>\n",
              "      <td>20</td>\n",
              "      <td>none</td>\n",
              "      <td>Nadeshot UPSET over GUARD Decision #tarik #sho...</td>\n",
              "      <td>NaN</td>\n",
              "      <td>162</td>\n",
              "      <td>5</td>\n",
              "      <td>0</td>\n",
              "      <td>0</td>\n",
              "    </tr>\n",
              "    <tr>\n",
              "      <th>1</th>\n",
              "      <td>youtube#video</td>\n",
              "      <td>CZdvuqxHGJEp9WcnYxi_EpFOK1Y</td>\n",
              "      <td>eSrxybQRoCQ</td>\n",
              "      <td>UCUyAA4Ekq5nHmr5mjZ-L4eA</td>\n",
              "      <td>2023-09-01T00:14:23Z</td>\n",
              "      <td>UCUyAA4Ekq5nHmr5mjZ-L4eA</td>\n",
              "      <td>When SHROUD Was On Sentinels #shorts #valorant...</td>\n",
              "      <td>NaN</td>\n",
              "      <td>https://i.ytimg.com/vi/eSrxybQRoCQ/default.jpg</td>\n",
              "      <td>120</td>\n",
              "      <td>...</td>\n",
              "      <td>ClipsJoy</td>\n",
              "      <td>NaN</td>\n",
              "      <td>20</td>\n",
              "      <td>none</td>\n",
              "      <td>When SHROUD Was On Sentinels #shorts #valorant...</td>\n",
              "      <td>NaN</td>\n",
              "      <td>4803</td>\n",
              "      <td>101</td>\n",
              "      <td>0</td>\n",
              "      <td>0</td>\n",
              "    </tr>\n",
              "    <tr>\n",
              "      <th>2</th>\n",
              "      <td>youtube#video</td>\n",
              "      <td>vjk5-2VRY_zFmit7GgB5rAerj5M</td>\n",
              "      <td>rvHHDG4XnWk</td>\n",
              "      <td>UCUyAA4Ekq5nHmr5mjZ-L4eA</td>\n",
              "      <td>2023-08-28T22:31:12Z</td>\n",
              "      <td>UCUyAA4Ekq5nHmr5mjZ-L4eA</td>\n",
              "      <td>FNS EXPLAINS Sentinels Roster &amp; EG vs LOUD Exp...</td>\n",
              "      <td>FNS on Sentinels Roster &amp; EG vs LOUD Expectati...</td>\n",
              "      <td>https://i.ytimg.com/vi/rvHHDG4XnWk/default.jpg</td>\n",
              "      <td>120</td>\n",
              "      <td>...</td>\n",
              "      <td>ClipsJoy</td>\n",
              "      <td>['jarso', 'stewie2k', 'tarik', 'shahzam', 'sin...</td>\n",
              "      <td>20</td>\n",
              "      <td>none</td>\n",
              "      <td>FNS EXPLAINS Sentinels Roster &amp; EG vs LOUD Exp...</td>\n",
              "      <td>FNS on Sentinels Roster &amp; EG vs LOUD Expectati...</td>\n",
              "      <td>4333</td>\n",
              "      <td>32</td>\n",
              "      <td>0</td>\n",
              "      <td>10</td>\n",
              "    </tr>\n",
              "    <tr>\n",
              "      <th>3</th>\n",
              "      <td>youtube#video</td>\n",
              "      <td>RoiQp8R8_WvWNVR6B0TBET-cMlU</td>\n",
              "      <td>8HcnGACiegA</td>\n",
              "      <td>UCUyAA4Ekq5nHmr5mjZ-L4eA</td>\n",
              "      <td>2023-08-28T22:14:15Z</td>\n",
              "      <td>UCUyAA4Ekq5nHmr5mjZ-L4eA</td>\n",
              "      <td>NRG s0m &amp; FNS EXPLAIN Leaving NRG Roster</td>\n",
              "      <td>NRG s0m &amp; FNS on WHY They're Leaving The NRG R...</td>\n",
              "      <td>https://i.ytimg.com/vi/8HcnGACiegA/default.jpg</td>\n",
              "      <td>120</td>\n",
              "      <td>...</td>\n",
              "      <td>ClipsJoy</td>\n",
              "      <td>['jarso', 'stewie2k', 'tarik', 'shahzam', 'sin...</td>\n",
              "      <td>20</td>\n",
              "      <td>none</td>\n",
              "      <td>NRG s0m &amp; FNS EXPLAIN Leaving NRG Roster</td>\n",
              "      <td>NRG s0m &amp; FNS on WHY They're Leaving The NRG R...</td>\n",
              "      <td>2273</td>\n",
              "      <td>15</td>\n",
              "      <td>0</td>\n",
              "      <td>1</td>\n",
              "    </tr>\n",
              "    <tr>\n",
              "      <th>4</th>\n",
              "      <td>youtube#video</td>\n",
              "      <td>2rs9CuPKHUafmLaPFajuVHP1sJo</td>\n",
              "      <td>4rNxrXDb3do</td>\n",
              "      <td>UCUyAA4Ekq5nHmr5mjZ-L4eA</td>\n",
              "      <td>2023-08-27T00:01:51Z</td>\n",
              "      <td>UCUyAA4Ekq5nHmr5mjZ-L4eA</td>\n",
              "      <td>Evil Geniuses Are YOUR VALORANT CHAMPIONS | Ta...</td>\n",
              "      <td>SEN Tarik, TenZ, Zekken, Rawkus React to EG WI...</td>\n",
              "      <td>https://i.ytimg.com/vi/4rNxrXDb3do/default.jpg</td>\n",
              "      <td>120</td>\n",
              "      <td>...</td>\n",
              "      <td>ClipsJoy</td>\n",
              "      <td>['jarso', 'stewie2k', 'tarik', 'shahzam', 'sin...</td>\n",
              "      <td>20</td>\n",
              "      <td>none</td>\n",
              "      <td>Evil Geniuses Are YOUR VALORANT CHAMPIONS | Ta...</td>\n",
              "      <td>SEN Tarik, TenZ, Zekken, Rawkus React to EG WI...</td>\n",
              "      <td>711</td>\n",
              "      <td>8</td>\n",
              "      <td>0</td>\n",
              "      <td>0</td>\n",
              "    </tr>\n",
              "  </tbody>\n",
              "</table>\n",
              "<p>5 rows × 33 columns</p>\n",
              "</div>\n",
              "    <div class=\"colab-df-buttons\">\n",
              "\n",
              "  <div class=\"colab-df-container\">\n",
              "    <button class=\"colab-df-convert\" onclick=\"convertToInteractive('df-a1023ff3-0e19-4acd-a0cc-5e91a37c7bbf')\"\n",
              "            title=\"Convert this dataframe to an interactive table.\"\n",
              "            style=\"display:none;\">\n",
              "\n",
              "  <svg xmlns=\"http://www.w3.org/2000/svg\" height=\"24px\" viewBox=\"0 -960 960 960\">\n",
              "    <path d=\"M120-120v-720h720v720H120Zm60-500h600v-160H180v160Zm220 220h160v-160H400v160Zm0 220h160v-160H400v160ZM180-400h160v-160H180v160Zm440 0h160v-160H620v160ZM180-180h160v-160H180v160Zm440 0h160v-160H620v160Z\"/>\n",
              "  </svg>\n",
              "    </button>\n",
              "\n",
              "  <style>\n",
              "    .colab-df-container {\n",
              "      display:flex;\n",
              "      gap: 12px;\n",
              "    }\n",
              "\n",
              "    .colab-df-convert {\n",
              "      background-color: #E8F0FE;\n",
              "      border: none;\n",
              "      border-radius: 50%;\n",
              "      cursor: pointer;\n",
              "      display: none;\n",
              "      fill: #1967D2;\n",
              "      height: 32px;\n",
              "      padding: 0 0 0 0;\n",
              "      width: 32px;\n",
              "    }\n",
              "\n",
              "    .colab-df-convert:hover {\n",
              "      background-color: #E2EBFA;\n",
              "      box-shadow: 0px 1px 2px rgba(60, 64, 67, 0.3), 0px 1px 3px 1px rgba(60, 64, 67, 0.15);\n",
              "      fill: #174EA6;\n",
              "    }\n",
              "\n",
              "    .colab-df-buttons div {\n",
              "      margin-bottom: 4px;\n",
              "    }\n",
              "\n",
              "    [theme=dark] .colab-df-convert {\n",
              "      background-color: #3B4455;\n",
              "      fill: #D2E3FC;\n",
              "    }\n",
              "\n",
              "    [theme=dark] .colab-df-convert:hover {\n",
              "      background-color: #434B5C;\n",
              "      box-shadow: 0px 1px 3px 1px rgba(0, 0, 0, 0.15);\n",
              "      filter: drop-shadow(0px 1px 2px rgba(0, 0, 0, 0.3));\n",
              "      fill: #FFFFFF;\n",
              "    }\n",
              "  </style>\n",
              "\n",
              "    <script>\n",
              "      const buttonEl =\n",
              "        document.querySelector('#df-a1023ff3-0e19-4acd-a0cc-5e91a37c7bbf button.colab-df-convert');\n",
              "      buttonEl.style.display =\n",
              "        google.colab.kernel.accessAllowed ? 'block' : 'none';\n",
              "\n",
              "      async function convertToInteractive(key) {\n",
              "        const element = document.querySelector('#df-a1023ff3-0e19-4acd-a0cc-5e91a37c7bbf');\n",
              "        const dataTable =\n",
              "          await google.colab.kernel.invokeFunction('convertToInteractive',\n",
              "                                                    [key], {});\n",
              "        if (!dataTable) return;\n",
              "\n",
              "        const docLinkHtml = 'Like what you see? Visit the ' +\n",
              "          '<a target=\"_blank\" href=https://colab.research.google.com/notebooks/data_table.ipynb>data table notebook</a>'\n",
              "          + ' to learn more about interactive tables.';\n",
              "        element.innerHTML = '';\n",
              "        dataTable['output_type'] = 'display_data';\n",
              "        await google.colab.output.renderOutput(dataTable, element);\n",
              "        const docLink = document.createElement('div');\n",
              "        docLink.innerHTML = docLinkHtml;\n",
              "        element.appendChild(docLink);\n",
              "      }\n",
              "    </script>\n",
              "  </div>\n",
              "\n",
              "\n",
              "    <div id=\"df-eaffbe89-1c2b-46d3-b1d1-eeed87731519\">\n",
              "      <button class=\"colab-df-quickchart\" onclick=\"quickchart('df-eaffbe89-1c2b-46d3-b1d1-eeed87731519')\"\n",
              "                title=\"Suggest charts\"\n",
              "                style=\"display:none;\">\n",
              "\n",
              "<svg xmlns=\"http://www.w3.org/2000/svg\" height=\"24px\"viewBox=\"0 0 24 24\"\n",
              "     width=\"24px\">\n",
              "    <g>\n",
              "        <path d=\"M19 3H5c-1.1 0-2 .9-2 2v14c0 1.1.9 2 2 2h14c1.1 0 2-.9 2-2V5c0-1.1-.9-2-2-2zM9 17H7v-7h2v7zm4 0h-2V7h2v10zm4 0h-2v-4h2v4z\"/>\n",
              "    </g>\n",
              "</svg>\n",
              "      </button>\n",
              "\n",
              "<style>\n",
              "  .colab-df-quickchart {\n",
              "      --bg-color: #E8F0FE;\n",
              "      --fill-color: #1967D2;\n",
              "      --hover-bg-color: #E2EBFA;\n",
              "      --hover-fill-color: #174EA6;\n",
              "      --disabled-fill-color: #AAA;\n",
              "      --disabled-bg-color: #DDD;\n",
              "  }\n",
              "\n",
              "  [theme=dark] .colab-df-quickchart {\n",
              "      --bg-color: #3B4455;\n",
              "      --fill-color: #D2E3FC;\n",
              "      --hover-bg-color: #434B5C;\n",
              "      --hover-fill-color: #FFFFFF;\n",
              "      --disabled-bg-color: #3B4455;\n",
              "      --disabled-fill-color: #666;\n",
              "  }\n",
              "\n",
              "  .colab-df-quickchart {\n",
              "    background-color: var(--bg-color);\n",
              "    border: none;\n",
              "    border-radius: 50%;\n",
              "    cursor: pointer;\n",
              "    display: none;\n",
              "    fill: var(--fill-color);\n",
              "    height: 32px;\n",
              "    padding: 0;\n",
              "    width: 32px;\n",
              "  }\n",
              "\n",
              "  .colab-df-quickchart:hover {\n",
              "    background-color: var(--hover-bg-color);\n",
              "    box-shadow: 0 1px 2px rgba(60, 64, 67, 0.3), 0 1px 3px 1px rgba(60, 64, 67, 0.15);\n",
              "    fill: var(--button-hover-fill-color);\n",
              "  }\n",
              "\n",
              "  .colab-df-quickchart-complete:disabled,\n",
              "  .colab-df-quickchart-complete:disabled:hover {\n",
              "    background-color: var(--disabled-bg-color);\n",
              "    fill: var(--disabled-fill-color);\n",
              "    box-shadow: none;\n",
              "  }\n",
              "\n",
              "  .colab-df-spinner {\n",
              "    border: 2px solid var(--fill-color);\n",
              "    border-color: transparent;\n",
              "    border-bottom-color: var(--fill-color);\n",
              "    animation:\n",
              "      spin 1s steps(1) infinite;\n",
              "  }\n",
              "\n",
              "  @keyframes spin {\n",
              "    0% {\n",
              "      border-color: transparent;\n",
              "      border-bottom-color: var(--fill-color);\n",
              "      border-left-color: var(--fill-color);\n",
              "    }\n",
              "    20% {\n",
              "      border-color: transparent;\n",
              "      border-left-color: var(--fill-color);\n",
              "      border-top-color: var(--fill-color);\n",
              "    }\n",
              "    30% {\n",
              "      border-color: transparent;\n",
              "      border-left-color: var(--fill-color);\n",
              "      border-top-color: var(--fill-color);\n",
              "      border-right-color: var(--fill-color);\n",
              "    }\n",
              "    40% {\n",
              "      border-color: transparent;\n",
              "      border-right-color: var(--fill-color);\n",
              "      border-top-color: var(--fill-color);\n",
              "    }\n",
              "    60% {\n",
              "      border-color: transparent;\n",
              "      border-right-color: var(--fill-color);\n",
              "    }\n",
              "    80% {\n",
              "      border-color: transparent;\n",
              "      border-right-color: var(--fill-color);\n",
              "      border-bottom-color: var(--fill-color);\n",
              "    }\n",
              "    90% {\n",
              "      border-color: transparent;\n",
              "      border-bottom-color: var(--fill-color);\n",
              "    }\n",
              "  }\n",
              "</style>\n",
              "\n",
              "      <script>\n",
              "        async function quickchart(key) {\n",
              "          const quickchartButtonEl =\n",
              "            document.querySelector('#' + key + ' button');\n",
              "          quickchartButtonEl.disabled = true;  // To prevent multiple clicks.\n",
              "          quickchartButtonEl.classList.add('colab-df-spinner');\n",
              "          try {\n",
              "            const charts = await google.colab.kernel.invokeFunction(\n",
              "                'suggestCharts', [key], {});\n",
              "          } catch (error) {\n",
              "            console.error('Error during call to suggestCharts:', error);\n",
              "          }\n",
              "          quickchartButtonEl.classList.remove('colab-df-spinner');\n",
              "          quickchartButtonEl.classList.add('colab-df-quickchart-complete');\n",
              "        }\n",
              "        (() => {\n",
              "          let quickchartButtonEl =\n",
              "            document.querySelector('#df-eaffbe89-1c2b-46d3-b1d1-eeed87731519 button');\n",
              "          quickchartButtonEl.style.display =\n",
              "            google.colab.kernel.accessAllowed ? 'block' : 'none';\n",
              "        })();\n",
              "      </script>\n",
              "    </div>\n",
              "\n",
              "    </div>\n",
              "  </div>\n"
            ],
            "application/vnd.google.colaboratory.intrinsic+json": {
              "type": "dataframe",
              "variable_name": "df"
            }
          },
          "metadata": {},
          "execution_count": 1
        }
      ]
    },
    {
      "cell_type": "code",
      "source": [
        "# Extract video IDs\n",
        "video_ids = df[\"id\"].dropna().unique().tolist()\n",
        "print(f\"Found {len(video_ids)} video IDs.\")\n",
        "\n",
        "# Download thumbnails\n",
        "import os\n",
        "import requests\n",
        "from PIL import Image\n",
        "from io import BytesIO\n",
        "\n",
        "os.makedirs(\"thumbnails\", exist_ok=True)\n",
        "\n",
        "def download_thumbnail(video_id):\n",
        "    url = f\"https://i.ytimg.com/vi/{video_id}/mqdefault.jpg\"\n",
        "    path = f\"thumbnails/{video_id}.jpg\"\n",
        "    try:\n",
        "        response = requests.get(url)\n",
        "        img = Image.open(BytesIO(response.content)).convert('RGB')\n",
        "        img.save(path)\n",
        "        return path\n",
        "    except Exception as e:\n",
        "        print(f\"Error downloading {video_id}: {e}\")\n",
        "        return None\n",
        "\n",
        "paths = [download_thumbnail(vid) for vid in video_ids]"
      ],
      "metadata": {
        "id": "vqypfUKHZ21K",
        "colab": {
          "base_uri": "https://localhost:8080/"
        },
        "outputId": "6087ec6a-97da-425a-afe9-2b601a3ccd85"
      },
      "execution_count": null,
      "outputs": [
        {
          "output_type": "stream",
          "name": "stdout",
          "text": [
            "Found 165 video IDs.\n"
          ]
        }
      ]
    },
    {
      "cell_type": "code",
      "source": [
        "# Extract visual features\n",
        "import numpy as np\n",
        "\n",
        "def extract_features(img_path, video_id):\n",
        "    try:\n",
        "        img = Image.open(img_path).convert('RGB')\n",
        "        img_array = np.array(img)\n",
        "\n",
        "        avg_color = np.mean(img_array, axis=(0, 1))\n",
        "        brightness = np.mean(img_array)\n",
        "        contrast = np.std(img_array)\n",
        "\n",
        "        return {\n",
        "            \"video_id\": video_id,\n",
        "            \"avg_red\": avg_color[0],\n",
        "            \"avg_green\": avg_color[1],\n",
        "            \"avg_blue\": avg_color[2],\n",
        "            \"brightness\": brightness,\n",
        "            \"contrast\": contrast\n",
        "        }\n",
        "    except Exception as e:\n",
        "        print(f\"Failed to extract for {video_id}: {e}\")\n",
        "        return None\n",
        "\n",
        "feature_data = [extract_features(f\"thumbnails/{vid}.jpg\", vid) for vid in video_ids]\n",
        "features_df = pd.DataFrame([f for f in feature_data if f is not None])\n",
        "features_df.head()\n",
        "\n",
        "# Merge image features with original DataFrame\n",
        "merged_df = pd.merge(df, features_df, left_on='id', right_on='video_id', how='left')\n",
        "\n",
        "# Drop the redundant 'video_id' column\n",
        "merged_df = merged_df.drop('video_id', axis=1)\n",
        "\n",
        "df = merged_df"
      ],
      "metadata": {
        "id": "q776NQ7xZ8GR"
      },
      "execution_count": null,
      "outputs": []
    },
    {
      "cell_type": "code",
      "source": [
        "from textblob import TextBlob\n",
        "import re\n",
        "\n",
        "# Define sets of keywords\n",
        "clickbait_words = {\n",
        "    \"amazing\", \"incredible\", \"shocking\", \"jaw-dropping\", \"mind-blowing\",\n",
        "    \"unbelievable\", \"you won’t believe\", \"you’ll never guess\", \"what happens next\",\n",
        "    \"epic\", \"ultimate\", \"must\", \"insane\", \"secret\", \"exposed\", \"revealed\",\n",
        "    \"hack\", \"these reasons\", \"10 reasons\", \"this trick\", \"don’t miss\",\n",
        "    \"game changer\", \"craziest\", \"revealed\", \"the truth about\", \"deal of the day\"\n",
        "}\n",
        "\n",
        "power_words = {\n",
        "    \"best\", \"top\", \"new\", \"essential\", \"easy\", \"quick\", \"instant\", \"effortless\",\n",
        "    \"guaranteed\", \"proven\", \"genius\", \"exclusive\", \"remarkable\", \"powerful\",\n",
        "    \"revolutionary\", \"breakthrough\", \"must-have\", \"unlock\", \"master\", \"ultimate\",\n",
        "    \"secret\", \"simple\", \"transform\", \"hacks\", \"tips\", \"tricks\"\n",
        "}\n",
        "\n",
        "timed_words = {\n",
        "    \"now\", \"today\", \"just now\", \"breaking\", \"this morning\", \"this afternoon\",\n",
        "    \"this evening\", \"tonight\", \"this week\", \"this weekend\", \"this month\",\n",
        "    \"this season\", \"this year\", \"last minute\", \"last week\", \"2023\", \"2024\",\n",
        "    \"2025\", \"coming soon\", \"newly released\", \"upcoming\", \"recent\", \"daily\",\n",
        "    \"weekly\", \"monthly\", \"yearly\"\n",
        "}\n",
        "\n",
        "def extract_title_features(title):\n",
        "    blob = TextBlob(title)\n",
        "    words = title.split()\n",
        "    punctuation = set(\"!?.,:;-()[]{}\")\n",
        "\n",
        "    upper_words = [w for w in words if w.isupper()]\n",
        "    letters = re.findall(r'[A-Za-z]', title)\n",
        "    uppercase_letters = [c for c in letters if c.isupper()]\n",
        "    digits = re.findall(r'\\d', title)\n",
        "\n",
        "\n",
        "    clickbait_score = sum(word.lower() in clickbait_words for word in words)\n",
        "    power_word_count = sum(word.lower() in power_words for word in words)\n",
        "    timed_word_count = sum(word.lower() in timed_words for word in words)\n",
        "\n",
        "\n",
        "    return {\n",
        "        \"title_sentiment\": blob.sentiment.polarity,\n",
        "        \"title_subjectivity\": blob.sentiment.subjectivity,\n",
        "        \"num_question_marks\": title.count(\"?\"),\n",
        "        \"num_exclamation_marks\": title.count(\"!\"),\n",
        "        \"starts_with_keyword\": int(words[0].lower() in {\"how\", \"why\", \"what\", \"when\", \"where\", \"who\"} if words else 0),\n",
        "        \"title_length\": len(title),\n",
        "        \"word_count\": len(words),\n",
        "        \"punctuation_count\": sum(1 for c in title if c in punctuation),\n",
        "        \"uppercase_word_count\": len(upper_words),\n",
        "        \"percent_letters_uppercase\": round(len(uppercase_letters) / len(letters), 3) if letters else 0,\n",
        "        \"num_digits\": len(digits),\n",
        "        \"clickbait_score\": clickbait_score,\n",
        "        \"num_power_words\": power_word_count,\n",
        "        \"num_timed_words\": timed_word_count\n",
        "    }"
      ],
      "metadata": {
        "id": "8bjbXyCMSjGe"
      },
      "execution_count": null,
      "outputs": []
    },
    {
      "cell_type": "code",
      "source": [
        "# Load the CSV that has titles in it\n",
        "import pandas as pd\n",
        "\n",
        "title_df = pd.read_csv(url)\n",
        "\n",
        "# Extract only the title and video id from the original csv so we can join it to df by video id to add the title column\n",
        "title_df = title_df[['snippet.title', 'id', 'channel_id', 'statistics.viewCount', 'statistics.likeCount', 'statistics.commentCount']]\n",
        "title_df = title_df.rename(columns={'snippet.title': 'title', 'id': 'video_id', 'statistics.viewCount': 'viewCount', 'statistics.likeCount': 'likeCount', 'statistics.commentCount': 'commentCount'})\n",
        "title_df.head()\n",
        "\n",
        "# Merge to add title column\n",
        "df = pd.merge(df, title_df, left_on='id', right_on='video_id', how='left')\n",
        "df.head()\n",
        "\n",
        "# Apply the extraction function to all titles\n",
        "title_feature_df = df[\"title\"].apply(extract_title_features).apply(pd.Series)\n",
        "\n",
        "# Merge with the original DataFrame\n",
        "df = pd.concat([df, title_feature_df], axis=1)\n",
        "df.head()\n",
        "\n",
        "df = df.rename(columns={'snippet.channelId': 'channel_id'})"
      ],
      "metadata": {
        "id": "annEk9F8TGRE"
      },
      "execution_count": null,
      "outputs": []
    },
    {
      "source": [
        "# \"High performance\" threshold\n",
        "percentile = 0.75\n",
        "\n",
        "# Select the numeric columns *before* grouping and applying quantile\n",
        "thresholds = df[[\"channel_id\", \"viewCount\", \"likeCount\", \"commentCount\"]].groupby(\"channel_id\").quantile(percentile)[\n",
        "    [\"viewCount\", \"likeCount\", \"commentCount\"]\n",
        "].rename(columns={\n",
        "    \"viewCount\": \"views_threshold\",\n",
        "    \"likeCount\": \"likes_threshold\",\n",
        "    \"commentCount\": \"comments_threshold\"\n",
        "}).reset_index()\n",
        "\n",
        "# Merge thresholds into main dataframe (only run once)\n",
        "df = df.merge(thresholds, on=\"channel_id\", how=\"left\")\n",
        "df.head()\n",
        "\n",
        "# Label virality using thresholds\n",
        "df[\"viral\"] = (\n",
        "    (df[\"viewCount\"] > df[\"views_threshold\"]) &\n",
        "    (df[\"likeCount\"] > df[\"likes_threshold\"]) &\n",
        "    (df[\"commentCount\"] > df[\"comments_threshold\"])\n",
        ").astype(int)\n",
        "\n",
        "# Drop the threshold columns from the main DataFrame\n",
        "df = df.drop([\"views_threshold\", \"likes_threshold\", \"comments_threshold\"], axis=1)\n",
        "\n",
        "df.head()\n",
        "\n",
        "# (OPTIONAL FOR DEBUGGING) Calculate the percentage of viral videos\n",
        "viral_percentage = (df[\"viral\"].sum() / len(df)) * 100\n",
        "\n",
        "print(f\"Percentage of viral videos: {viral_percentage:.2f}%\")"
      ],
      "cell_type": "code",
      "metadata": {
        "id": "KPeVTNsmdElG",
        "colab": {
          "base_uri": "https://localhost:8080/"
        },
        "outputId": "6e1331f8-7e0b-49bc-daa7-c2bd817367b6"
      },
      "execution_count": null,
      "outputs": [
        {
          "output_type": "stream",
          "name": "stdout",
          "text": [
            "Percentage of viral videos: 12.73%\n"
          ]
        }
      ]
    },
    {
      "cell_type": "code",
      "source": [
        "# Dropping bad columns/features\n",
        "columns_to_drop = ['kind',\n",
        "                   'etag',\n",
        "                   'channel_id_x',\n",
        "                   'snippet.publishedAt',\n",
        "                   'snippet.title',\n",
        "                   'snippet.thumbnails.default.url',\n",
        "                   'snippet.thumbnails.default.width',\n",
        "                   'snippet.thumbnails.default.height',\n",
        "                   'snippet.thumbnails.medium.url',\n",
        "                   'snippet.thumbnails.medium.width',\n",
        "                   'snippet.thumbnails.medium.height',\n",
        "                   'snippet.thumbnails.high.url',\n",
        "                   'snippet.thumbnails.high.width',\n",
        "                   'snippet.thumbnails.high.height',\n",
        "                   'snippet.thumbnails.standard.url',\n",
        "                   'snippet.thumbnails.standard.width',\n",
        "                   'snippet.thumbnails.standard.height',\n",
        "                   'snippet.thumbnails.maxres.url',\n",
        "                   'snippet.thumbnails.maxres.width',\n",
        "                   'snippet.thumbnails.maxres.height',\n",
        "                   'statistics.viewCount',\n",
        "                   'statistics.likeCount',\n",
        "                   'statistics.commentCount',\n",
        "                   'snippet.channelTitle',\n",
        "                   'snippet.categoryId',\n",
        "                   'snippet.liveBroadcastContent',\n",
        "                   'snippet.defaultAudioLanguage',\n",
        "                   'snippet.defaultLanguage',\n",
        "                   'title',\n",
        "                   'channel_id_x',\n",
        "                   'channel_id_y',\n",
        "                   'snippet.localized.description',\n",
        "                   'statistics.favoriteCount',\n",
        "                   'id']\n",
        "\n",
        "# Check which columns exist in the DataFrame before dropping\n",
        "existing_columns_to_drop = [col for col in columns_to_drop if col in df.columns]\n",
        "\n",
        "df = df.drop(columns=existing_columns_to_drop, axis=1)"
      ],
      "metadata": {
        "id": "p-J0PEVQ84KI"
      },
      "execution_count": null,
      "outputs": []
    },
    {
      "cell_type": "code",
      "source": [
        "# Renaming columns for prettier features\n",
        "df = df.rename(columns={'snippet.description': 'description', 'snippet.localized.title': 'title', 'statistics.viewCount': 'viewCount', 'statistics.likeCount': 'likeCount', 'statistics.commentCount': 'commentCount', 'snippet.tags': 'tags'})"
      ],
      "metadata": {
        "id": "Omjv31QZ_at0"
      },
      "execution_count": null,
      "outputs": []
    },
    {
      "cell_type": "code",
      "source": [
        "### Description-based features\n",
        "\n",
        "import re\n",
        "from textblob import TextBlob\n",
        "\n",
        "# Fill NA for descriptions\n",
        "df['description'] = df['description'].fillna('')\n",
        "\n",
        "# Description length\n",
        "df['description_length'] = df['description'].apply(len)\n",
        "\n",
        "# Description sentiment\n",
        "df['description_sentiment'] = df['description'].apply(lambda x: TextBlob(x).sentiment.polarity)\n",
        "\n",
        "# Description has keywords\n",
        "keywords = ['subscribe', 'giveaway', 'limited time', 'offer', 'new video']\n",
        "df['description_has_keywords'] = df['description'].apply(lambda x: any(kw in x.lower() for kw in keywords))"
      ],
      "metadata": {
        "id": "L36OzKgTCjFO"
      },
      "execution_count": null,
      "outputs": []
    },
    {
      "cell_type": "code",
      "source": [
        "### Tag-based features\n",
        "\n",
        "# Fill NA for tags\n",
        "df['tags'] = df['tags'].fillna('').astype(str)\n",
        "\n",
        "# Tag sentiment\n",
        "df['tag_sentiment'] = df['tags'].apply(lambda x: TextBlob(x).sentiment.polarity)\n",
        "\n",
        "# Unique tags\n",
        "df['num_unique_tags'] = df['tags'].apply(lambda x: len(set(tag.strip().lower() for tag in x.split(','))) if x else 0)"
      ],
      "metadata": {
        "id": "R77_ZzxcEtoL"
      },
      "execution_count": null,
      "outputs": []
    },
    {
      "cell_type": "code",
      "source": [
        "!pip install textstat"
      ],
      "metadata": {
        "colab": {
          "base_uri": "https://localhost:8080/"
        },
        "id": "sn6dEtFjHLES",
        "outputId": "35b7a797-39e1-499a-9407-2a3a743c14cb"
      },
      "execution_count": null,
      "outputs": [
        {
          "output_type": "stream",
          "name": "stdout",
          "text": [
            "Collecting textstat\n",
            "  Downloading textstat-0.7.7-py3-none-any.whl.metadata (15 kB)\n",
            "Collecting pyphen (from textstat)\n",
            "  Downloading pyphen-0.17.2-py3-none-any.whl.metadata (3.2 kB)\n",
            "Collecting cmudict (from textstat)\n",
            "  Downloading cmudict-1.0.32-py3-none-any.whl.metadata (3.6 kB)\n",
            "Requirement already satisfied: setuptools in /usr/local/lib/python3.11/dist-packages (from textstat) (75.2.0)\n",
            "Requirement already satisfied: importlib-metadata>=5 in /usr/local/lib/python3.11/dist-packages (from cmudict->textstat) (8.7.0)\n",
            "Requirement already satisfied: importlib-resources>=5 in /usr/local/lib/python3.11/dist-packages (from cmudict->textstat) (6.5.2)\n",
            "Requirement already satisfied: zipp>=3.20 in /usr/local/lib/python3.11/dist-packages (from importlib-metadata>=5->cmudict->textstat) (3.23.0)\n",
            "Downloading textstat-0.7.7-py3-none-any.whl (175 kB)\n",
            "\u001b[2K   \u001b[90m━━━━━━━━━━━━━━━━━━━━━━━━━━━━━━━━━━━━━━━━\u001b[0m \u001b[32m175.3/175.3 kB\u001b[0m \u001b[31m14.1 MB/s\u001b[0m eta \u001b[36m0:00:00\u001b[0m\n",
            "\u001b[?25hDownloading cmudict-1.0.32-py3-none-any.whl (939 kB)\n",
            "\u001b[2K   \u001b[90m━━━━━━━━━━━━━━━━━━━━━━━━━━━━━━━━━━━━━━━━\u001b[0m \u001b[32m939.4/939.4 kB\u001b[0m \u001b[31m40.4 MB/s\u001b[0m eta \u001b[36m0:00:00\u001b[0m\n",
            "\u001b[?25hDownloading pyphen-0.17.2-py3-none-any.whl (2.1 MB)\n",
            "\u001b[2K   \u001b[90m━━━━━━━━━━━━━━━━━━━━━━━━━━━━━━━━━━━━━━━━\u001b[0m \u001b[32m2.1/2.1 MB\u001b[0m \u001b[31m74.7 MB/s\u001b[0m eta \u001b[36m0:00:00\u001b[0m\n",
            "\u001b[?25hInstalling collected packages: pyphen, cmudict, textstat\n",
            "Successfully installed cmudict-1.0.32 pyphen-0.17.2 textstat-0.7.7\n"
          ]
        }
      ]
    },
    {
      "cell_type": "code",
      "source": [
        "### Title-based Semantic features\n",
        "\n",
        "from sentence_transformers import SentenceTransformer\n",
        "from sklearn.metrics.pairwise import cosine_similarity\n",
        "import numpy as np\n",
        "import textstat\n",
        "\n",
        "model = SentenceTransformer('all-MiniLM-L6-v2')\n",
        "\n",
        "# Compute title embeddings\n",
        "df['title_embedding'] = df['title'].fillna('').apply(lambda x: model.encode(x, convert_to_tensor=False))\n",
        "\n",
        "# Embedding distance to known viral videos\n",
        "viral_embeddings = df[df['viral'] == 1]['title_embedding'].tolist()\n",
        "\n",
        "def max_cosine_similarity(vec, others):\n",
        "    return np.max(cosine_similarity([vec], others)[0]) if others else 0\n",
        "\n",
        "# Clickbait phrase match\n",
        "clickbait_phrases = ['you won’t believe', 'what happens next', 'this is why', 'top secret', 'never seen before']\n",
        "df['clickbait_phrase_match'] = df['title'].fillna('').str.lower().apply(lambda t: any(p in t for p in clickbait_phrases)).astype(int)\n",
        "\n",
        "# Readability score\n",
        "df['title_readability'] = df['title'].fillna('').apply(lambda x: textstat.flesch_reading_ease(x))\n",
        "\n",
        "# Listicle and tutorial flags\n",
        "df['is_listicle'] = df['title'].str.strip().str.lower().str.match(r'^\\d+').astype(int)\n",
        "df['is_tutorial'] = df['title'].str.lower().str.startswith('how to').astype(int)"
      ],
      "metadata": {
        "id": "1BCZpOogEx4u",
        "colab": {
          "base_uri": "https://localhost:8080/",
          "height": 476,
          "referenced_widgets": [
            "f1fc627b29604a3ab8cd43b6c21e14ee",
            "310888b0efad400f997260891384853e",
            "ec9dc0cb22f34c33a38c65057cfa7e5d",
            "235fdecdbda546a1bf54b95b1cd41771",
            "e7d067b2c8d948b286e02c83be8dd22f",
            "3d4ba4d44b434892abd129917dd863fd",
            "844e43097f9c48c29bb831bd41eae2b5",
            "cdf92c4597d84cc392078a2347fa580e",
            "aedd1c0971ee4a24b3397d5b7e928625",
            "7cc8a67bf69d402f9ae092f9c2370b86",
            "e122d97d1f35438d86ca08cc3c41e69b",
            "192b2643ca6c4c44a8c35ccbf39eef91",
            "fd20b52a21074d88a55d532560809122",
            "f26489589f29451d8ad248638293eff2",
            "fe8149fdfa5d4548ac978b33aa0cab4d",
            "7bfaf04443f2444c8b7bb8d33de6b8fd",
            "ef81a2bf8f74404ba9e61f6c50b209d8",
            "a5e3b83444e949b58bd0cf8bafa9420f",
            "b2b2e4849b604c03ad13805c27db82ee",
            "90f31c30536a40789a5cd527a6a57a9b",
            "fda4073f877d4c9683256033c54f9120",
            "6d218914d6c447229da2d84887a203a1",
            "025f785565b14acd979018208d16a493",
            "fc67b7ab433540cdb4620663e6c5edb3",
            "2db66a803e8b462ba471333ba82446d1",
            "a9978ce8661244d3828b8b32e1fbd682",
            "2e932f2afc21495593aae2399f1ed899",
            "6ccfee59c7894c86acf3d8ea9d3af3e7",
            "f6ccc073ecd9440c85258d7bf4974530",
            "c2d927f23afd4e198e407f4b38a9eb12",
            "41c796516d2344758eab63348bd23479",
            "f90544c832ef48418e27e883c71d43c7",
            "f5c3a89d627b4b29bbf444fc74cb73d7",
            "466621b25f024ed5a73ac67efacd927f",
            "23e08a7bb15a493d8b9bb692b4ff23ce",
            "0c5c05a47d394abf803192d22e446614",
            "e0e176aedcbc4b8cbcce83b35aca7622",
            "e296d9f132cc455b8af1645216c810a4",
            "c70e2a1400604b2d9d34ae11decb1895",
            "da0604c8d55341f187b2741c3d10c491",
            "339a87163ca64f0a86ac79a28b5f288b",
            "80762009656d4cb7b169ced81eac9684",
            "c957efdf43db47e6945202fbfc25f12a",
            "9f9b8500d21644ddab90b60e66c910e0",
            "49b0bc7d172d47878fd8768c28796ddf",
            "9e8c0eaee4184ce99b91a720945b0af0",
            "f591d797f66c4997a291cb5de5c9e5b0",
            "39e97bafc3c843318f9f9a1ba74bddeb",
            "d72475ebcdf348a898d45478bdd804b0",
            "8d7c7182bb214e928359feebcecc32b6",
            "3c8a8c8bed9d4a558c24b58941edd84b",
            "2605052d90c24ae69d70bac0bef4ecf7",
            "d5d58db4114a47d2a0abac5ef4962e5e",
            "d73532ac87354f0b8c32635681997547",
            "ceb8a60a47794673a85f572c7270096d",
            "c9f51327c7614e87ac243db3051da9da",
            "2479eb111c9746ffae934483ad86c0f8",
            "15379250646a49ebb6a60141b47a14bd",
            "4066fd01e862499f95c0a4772abcfb81",
            "a92ce8c5716a466bb073bbae8d74d585",
            "73a7c60985ce40b294bed86cea5f2f64",
            "9639842684a0448c95534c8eae96397d",
            "4ca5600119034ec9b90fed480343b66b",
            "77d5bb3caa2a42d69b79616c29d00aae",
            "96b0b42e112143b2a7c4dff3e14d81a2",
            "0704f78d32bc4463b0ec51ebb699526c",
            "86397484f4374bb4a241ccc464063215",
            "594f3988f19e47d68bab6b8f5043d0b2",
            "e335c0759558462d9f23590649ae73b2",
            "f1af740642d54ff9a08d767b9a2d9410",
            "85b00dfc41d14e70b0f8e6169c2df2e0",
            "83234d82df414293adc8aa050f09652e",
            "3a3d7a35a2064705875f08e9d0a81cbb",
            "4bb55c5461ba42529ed5c9032046d32c",
            "b91f139dfcfb47c8907e546702cbded5",
            "7788b2e678a34e249c62036f39706837",
            "1da057e7f21647c0b8c662b0cd6dbab6",
            "2e1e3225c7764fd2b9729018120c2e21",
            "6fbd77cb3e0b4ed09b9b1cc4160a4ddb",
            "ff43cdf42384402e9d1b46e32d3b2952",
            "dfc0b0cc502448c0ae3f97f3e0a22e1f",
            "503f227db17f41fdbfd6f199ffcc4d03",
            "8d7ca37d93254989b5b43564c9a0a603",
            "4f90b00fe0cc4374a2012da8591047b6",
            "3a10a71dbff04eb1aeb628ab481ca583",
            "496d73806bc7490a87edb513dbfdd925",
            "0807833e0ed2406583c81ca0a09af432",
            "f5fa227cb5e64e5f9f6197522bab1456",
            "df342d0e5d414b1bb0555edaa90c5e5a",
            "aa9b0be1503148778eb132b7e5e234c5",
            "f0d9ad08f5cc4217b86c8d649f90d5a0",
            "76c5514b767f4726b8b49035c46506f9",
            "61dc768bc24448d89d40661faafda466",
            "17a2c5a01a1d44d980963f14a1795580",
            "934f8df2291442b8b4b464acf5da0cbd",
            "0dd62e7f257649f0ae959553442a7095",
            "4ad17848f82b44ec84273fa3da345066",
            "734319308461446a85d1f9776e0be0ea",
            "b1d0acefc1a54615a0066e631217b924",
            "b7add88847094383908dad0e16cf0e07",
            "ad2a59294ee440cfb4fcae4480c9f0c2",
            "354acf0e0139450fa7927ffe194f93c9",
            "6ab86fac9a1949b49226651ebbe2bbc5",
            "dd2c78bd727340d2b2b36bc1398a7d37",
            "cd970045989b4186bf58cd82a7ab1fa3",
            "79d42c608ac64484b0c18516091a6824",
            "d4be751b86c34550a47f5b5c16910828",
            "d946002eb63b48588acb4f94b42cf11a",
            "dfa3418802ab43e3804851eb27fa1619",
            "326969deb8594b49835980be330560c7",
            "082d41fdb3244a4ca8bd022f8aaf1cec",
            "8ac4340506a04fd49aabc260d9102f32",
            "daa1451a17a14e9abc21d5f0b2f7d2fd",
            "00d8d5a7057a47aca599f20c6352d610",
            "873651e7f9d34f5981a88ad02b06a127",
            "3a9da3accc9a418eb056085b57081a57",
            "7a2834733490495d8a93fd6c29503803",
            "8085aba859e643629a4ffc9709ccd2a8",
            "edf615df3733469d8acbab82a61d1f6a",
            "df5beb71526c494d91e3d2b0d4dd72a4",
            "03b9e32ac9bf4aea89612ccd44773f0f"
          ]
        },
        "outputId": "76e79e65-e4b8-4fe5-b92d-e979726b8f55"
      },
      "execution_count": null,
      "outputs": [
        {
          "output_type": "stream",
          "name": "stderr",
          "text": [
            "/usr/local/lib/python3.11/dist-packages/huggingface_hub/utils/_auth.py:94: UserWarning: \n",
            "The secret `HF_TOKEN` does not exist in your Colab secrets.\n",
            "To authenticate with the Hugging Face Hub, create a token in your settings tab (https://huggingface.co/settings/tokens), set it as secret in your Google Colab and restart your session.\n",
            "You will be able to reuse this secret in all of your notebooks.\n",
            "Please note that authentication is recommended but still optional to access public models or datasets.\n",
            "  warnings.warn(\n"
          ]
        },
        {
          "output_type": "display_data",
          "data": {
            "text/plain": [
              "modules.json:   0%|          | 0.00/349 [00:00<?, ?B/s]"
            ],
            "application/vnd.jupyter.widget-view+json": {
              "version_major": 2,
              "version_minor": 0,
              "model_id": "f1fc627b29604a3ab8cd43b6c21e14ee"
            }
          },
          "metadata": {}
        },
        {
          "output_type": "display_data",
          "data": {
            "text/plain": [
              "config_sentence_transformers.json:   0%|          | 0.00/116 [00:00<?, ?B/s]"
            ],
            "application/vnd.jupyter.widget-view+json": {
              "version_major": 2,
              "version_minor": 0,
              "model_id": "192b2643ca6c4c44a8c35ccbf39eef91"
            }
          },
          "metadata": {}
        },
        {
          "output_type": "display_data",
          "data": {
            "text/plain": [
              "README.md: 0.00B [00:00, ?B/s]"
            ],
            "application/vnd.jupyter.widget-view+json": {
              "version_major": 2,
              "version_minor": 0,
              "model_id": "025f785565b14acd979018208d16a493"
            }
          },
          "metadata": {}
        },
        {
          "output_type": "display_data",
          "data": {
            "text/plain": [
              "sentence_bert_config.json:   0%|          | 0.00/53.0 [00:00<?, ?B/s]"
            ],
            "application/vnd.jupyter.widget-view+json": {
              "version_major": 2,
              "version_minor": 0,
              "model_id": "466621b25f024ed5a73ac67efacd927f"
            }
          },
          "metadata": {}
        },
        {
          "output_type": "display_data",
          "data": {
            "text/plain": [
              "config.json:   0%|          | 0.00/612 [00:00<?, ?B/s]"
            ],
            "application/vnd.jupyter.widget-view+json": {
              "version_major": 2,
              "version_minor": 0,
              "model_id": "49b0bc7d172d47878fd8768c28796ddf"
            }
          },
          "metadata": {}
        },
        {
          "output_type": "display_data",
          "data": {
            "text/plain": [
              "model.safetensors:   0%|          | 0.00/90.9M [00:00<?, ?B/s]"
            ],
            "application/vnd.jupyter.widget-view+json": {
              "version_major": 2,
              "version_minor": 0,
              "model_id": "c9f51327c7614e87ac243db3051da9da"
            }
          },
          "metadata": {}
        },
        {
          "output_type": "display_data",
          "data": {
            "text/plain": [
              "tokenizer_config.json:   0%|          | 0.00/350 [00:00<?, ?B/s]"
            ],
            "application/vnd.jupyter.widget-view+json": {
              "version_major": 2,
              "version_minor": 0,
              "model_id": "86397484f4374bb4a241ccc464063215"
            }
          },
          "metadata": {}
        },
        {
          "output_type": "display_data",
          "data": {
            "text/plain": [
              "vocab.txt: 0.00B [00:00, ?B/s]"
            ],
            "application/vnd.jupyter.widget-view+json": {
              "version_major": 2,
              "version_minor": 0,
              "model_id": "2e1e3225c7764fd2b9729018120c2e21"
            }
          },
          "metadata": {}
        },
        {
          "output_type": "display_data",
          "data": {
            "text/plain": [
              "tokenizer.json: 0.00B [00:00, ?B/s]"
            ],
            "application/vnd.jupyter.widget-view+json": {
              "version_major": 2,
              "version_minor": 0,
              "model_id": "df342d0e5d414b1bb0555edaa90c5e5a"
            }
          },
          "metadata": {}
        },
        {
          "output_type": "display_data",
          "data": {
            "text/plain": [
              "special_tokens_map.json:   0%|          | 0.00/112 [00:00<?, ?B/s]"
            ],
            "application/vnd.jupyter.widget-view+json": {
              "version_major": 2,
              "version_minor": 0,
              "model_id": "b7add88847094383908dad0e16cf0e07"
            }
          },
          "metadata": {}
        },
        {
          "output_type": "display_data",
          "data": {
            "text/plain": [
              "config.json:   0%|          | 0.00/190 [00:00<?, ?B/s]"
            ],
            "application/vnd.jupyter.widget-view+json": {
              "version_major": 2,
              "version_minor": 0,
              "model_id": "082d41fdb3244a4ca8bd022f8aaf1cec"
            }
          },
          "metadata": {}
        }
      ]
    },
    {
      "cell_type": "code",
      "source": [
        "### Thumbnail-based features\n",
        "import cv2\n",
        "import os\n",
        "from collections import Counter\n",
        "from matplotlib.colors import rgb_to_hsv\n",
        "\n",
        "# Path to thumbnail images, assumes filename = <video_id>.jpg\n",
        "thumbnail_dir = \"/content/thumbnails/\"\n",
        "\n",
        "# Face detection setup\n",
        "face_cascade = cv2.CascadeClassifier(cv2.data.haarcascades + 'haarcascade_frontalface_default.xml')\n",
        "\n",
        "def get_thumbnail_features(video_id):\n",
        "    path = os.path.join(thumbnail_dir, f\"{video_id}.jpg\")\n",
        "    if not os.path.exists(path):\n",
        "        return pd.Series([0, -1, 0.0], index=['num_faces', 'dominant_color_hue', 'thumbnail_edge_density'])\n",
        "\n",
        "    img = cv2.imread(path)\n",
        "    gray = cv2.cvtColor(img, cv2.COLOR_BGR2GRAY)\n",
        "\n",
        "    # Face count\n",
        "    faces = face_cascade.detectMultiScale(gray, 1.1, 4)\n",
        "    num_faces = len(faces)\n",
        "\n",
        "    # Dominant color hue\n",
        "    hsv = cv2.cvtColor(img, cv2.COLOR_BGR2HSV)\n",
        "    hue_channel = hsv[:, :, 0].flatten()\n",
        "    most_common_hue = Counter(hue_channel).most_common(1)[0][0]\n",
        "\n",
        "    # Edge density\n",
        "    edges = cv2.Canny(gray, 100, 200)\n",
        "    edge_density = np.sum(edges > 0) / edges.size\n",
        "\n",
        "    return pd.Series([num_faces, most_common_hue, edge_density], index=['num_faces', 'dominant_color_hue', 'thumbnail_edge_density'])\n",
        "\n",
        "df[['num_faces', 'dominant_color_hue', 'thumbnail_edge_density']] = df['video_id'].apply(get_thumbnail_features)"
      ],
      "metadata": {
        "id": "l2a-OFYvE2Cu"
      },
      "execution_count": null,
      "outputs": []
    },
    {
      "cell_type": "code",
      "source": [
        "### Word Count Refinement\n",
        "\n",
        "def count_matches(text, word_list):\n",
        "    return sum(word in text.lower() for word in word_list)\n",
        "\n",
        "df['power_word_count'] = df['title'].fillna('').apply(lambda x: count_matches(x, power_words))\n",
        "df['timed_word_count'] = df['title'].fillna('').apply(lambda x: count_matches(x, timed_words))\n",
        "df['num_tags'] = df['tags'].apply(lambda x: len(x.split(',')) if x else 0)\n",
        "df['avg_tag_length'] = df['tags'].apply(lambda x: np.mean([len(tag) for tag in x.split(',')]) if x else 0)"
      ],
      "metadata": {
        "id": "izY5l9s-E5MH"
      },
      "execution_count": null,
      "outputs": []
    },
    {
      "cell_type": "code",
      "source": [
        "# Sanity check to see if less interesting features are at all useful\n",
        "\n",
        "timed_word_count_sum = df['timed_word_count'].sum()\n",
        "power_word_count_sum = df['power_word_count'].sum()\n",
        "is_listicle_sum = df['is_listicle'].sum()\n",
        "is_tutorial_sum = df['is_tutorial'].sum()\n",
        "num_faces_sum = df['num_faces'].sum()\n",
        "true_clickbait_matches = df['clickbait_phrase_match'].sum()\n",
        "print(f\"Total number of timed_word_count values: {timed_word_count_sum}\")\n",
        "print(f\"Total number of power_word_count values: {power_word_count_sum}\")\n",
        "print(f\"Total number of is_listicle values: {is_listicle_sum}\")\n",
        "print(f\"Total number of is_tutorial values: {is_tutorial_sum}\")\n",
        "print(f\"Total number of num_faces values: {num_faces_sum}\")\n",
        "print(f\"Total number of true clickbait_phrase_match values: {true_clickbait_matches}\")"
      ],
      "metadata": {
        "colab": {
          "base_uri": "https://localhost:8080/"
        },
        "id": "IzvTJDbxH1Ze",
        "outputId": "34147d4a-cea8-4cd7-eee6-710ef45d26a8"
      },
      "execution_count": null,
      "outputs": [
        {
          "output_type": "stream",
          "name": "stdout",
          "text": [
            "Total number of timed_word_count values: 0\n",
            "Total number of power_word_count values: 14\n",
            "Total number of is_listicle values: 2\n",
            "Total number of is_tutorial values: 0\n",
            "Total number of num_faces values: 27.0\n",
            "Total number of true clickbait_phrase_match values: 0\n"
          ]
        }
      ]
    },
    {
      "cell_type": "code",
      "source": [
        "pip install pytrends"
      ],
      "metadata": {
        "id": "YkSbZMqamZ-k",
        "outputId": "6feb8a54-59c3-4097-a8ce-99e3b12b8976",
        "colab": {
          "base_uri": "https://localhost:8080/"
        }
      },
      "execution_count": null,
      "outputs": [
        {
          "output_type": "stream",
          "name": "stdout",
          "text": [
            "Collecting pytrends\n",
            "  Downloading pytrends-4.9.2-py3-none-any.whl.metadata (13 kB)\n",
            "Requirement already satisfied: requests>=2.0 in /usr/local/lib/python3.11/dist-packages (from pytrends) (2.32.3)\n",
            "Requirement already satisfied: pandas>=0.25 in /usr/local/lib/python3.11/dist-packages (from pytrends) (2.2.2)\n",
            "Requirement already satisfied: lxml in /usr/local/lib/python3.11/dist-packages (from pytrends) (5.4.0)\n",
            "Requirement already satisfied: numpy>=1.23.2 in /usr/local/lib/python3.11/dist-packages (from pandas>=0.25->pytrends) (2.0.2)\n",
            "Requirement already satisfied: python-dateutil>=2.8.2 in /usr/local/lib/python3.11/dist-packages (from pandas>=0.25->pytrends) (2.9.0.post0)\n",
            "Requirement already satisfied: pytz>=2020.1 in /usr/local/lib/python3.11/dist-packages (from pandas>=0.25->pytrends) (2025.2)\n",
            "Requirement already satisfied: tzdata>=2022.7 in /usr/local/lib/python3.11/dist-packages (from pandas>=0.25->pytrends) (2025.2)\n",
            "Requirement already satisfied: charset-normalizer<4,>=2 in /usr/local/lib/python3.11/dist-packages (from requests>=2.0->pytrends) (3.4.2)\n",
            "Requirement already satisfied: idna<4,>=2.5 in /usr/local/lib/python3.11/dist-packages (from requests>=2.0->pytrends) (3.10)\n",
            "Requirement already satisfied: urllib3<3,>=1.21.1 in /usr/local/lib/python3.11/dist-packages (from requests>=2.0->pytrends) (2.4.0)\n",
            "Requirement already satisfied: certifi>=2017.4.17 in /usr/local/lib/python3.11/dist-packages (from requests>=2.0->pytrends) (2025.6.15)\n",
            "Requirement already satisfied: six>=1.5 in /usr/local/lib/python3.11/dist-packages (from python-dateutil>=2.8.2->pandas>=0.25->pytrends) (1.17.0)\n",
            "Downloading pytrends-4.9.2-py3-none-any.whl (15 kB)\n",
            "Installing collected packages: pytrends\n",
            "Successfully installed pytrends-4.9.2\n"
          ]
        }
      ]
    },
    {
      "cell_type": "code",
      "source": [
        "from typing import List\n",
        "from pytrends.request import TrendReq\n",
        "import requests\n",
        "from bs4 import BeautifulSoup\n",
        "from sentence_transformers import SentenceTransformer\n",
        "from sklearn.metrics.pairwise import cosine_similarity\n",
        "\n",
        "# Load the SentenceTransformer model once at import time.\n",
        "# The weights and config will be downloaded and cached under ./model_cache.\n",
        "MODEL = SentenceTransformer(\n",
        "    \"all-MiniLM-L6-v2\",\n",
        "    cache_folder=\"./model_cache\"\n",
        ")\n",
        "\n",
        "def get_google_trend_score(keywords: List[str]) -> float:\n",
        "    \"\"\"\n",
        "    Fetches daily interest for given keywords from Google Trends and returns\n",
        "    the normalized average score (0.0 to 1.0).\n",
        "    \"\"\"\n",
        "    try:\n",
        "        pytrends = TrendReq()\n",
        "        pytrends.build_payload(keywords, timeframe=\"now 1-d\")\n",
        "        data = pytrends.interest_over_time()\n",
        "        if data.empty:\n",
        "            return 0.0\n",
        "        # values range from 0–100\n",
        "        return float(data[keywords].iloc[-1].mean() / 100)\n",
        "    except Exception:\n",
        "        return 0.0\n",
        "\n",
        "def get_twitter_trend_score(keywords: List[str]) -> float:\n",
        "    \"\"\"\n",
        "    Scrapes Twitter's trending topics page and returns a normalized\n",
        "    count of how many trending hashtags match the provided keywords.\n",
        "    \"\"\"\n",
        "    try:\n",
        "        url = \"https://twitter.com/explore/tabs/trending\"\n",
        "        resp = requests.get(url)\n",
        "        soup = BeautifulSoup(resp.text, \"html.parser\")\n",
        "        hashtags = [tag.get_text().lstrip(\"#\") for tag in soup.find_all(\"span\")]\n",
        "        matches = sum(\n",
        "            1 for kw in keywords\n",
        "            if any(kw.lower() in h.lower() for h in hashtags)\n",
        "        )\n",
        "        max_count = max(len(hashtags), 1)\n",
        "        return matches / max_count\n",
        "    except Exception:\n",
        "        return 0.0\n",
        "\n",
        "def get_youtube_trending_similarity(keywords: List[str]) -> float:\n",
        "    \"\"\"\n",
        "    Scrapes YouTube's trending page and computes the maximum cosine similarity\n",
        "    between the keyword string and any trending video title, using the\n",
        "    preloaded SentenceTransformer model.\n",
        "    \"\"\"\n",
        "    try:\n",
        "        resp = requests.get(\"https://www.youtube.com/feed/trending\")\n",
        "        soup = BeautifulSoup(resp.text, \"html.parser\")\n",
        "        titles = [\n",
        "            t[\"title\"] for t in soup.select(\"a#video-title\")\n",
        "            if t.get(\"title\")\n",
        "        ]\n",
        "        if not titles:\n",
        "            return 0.0\n",
        "\n",
        "        # Encode the query once\n",
        "        query_emb = MODEL.encode(\" \".join(keywords), convert_to_numpy=True)\n",
        "\n",
        "        # Compute similarity against each trending title\n",
        "        sims = []\n",
        "        for title in titles:\n",
        "            title_emb = MODEL.encode(title, convert_to_numpy=True)\n",
        "            sim = cosine_similarity(\n",
        "                query_emb.reshape(1, -1),\n",
        "                title_emb.reshape(1, -1)\n",
        "            )[0][0]\n",
        "            sims.append(sim)\n",
        "\n",
        "        return max(sims)\n",
        "    except Exception:\n",
        "        return 0.0\n",
        "\n",
        "def calculate_trending_score(\n",
        "    keywords: List[str],\n",
        "    w1: float = 0.4,\n",
        "    w2: float = 0.3,\n",
        "    w3: float = 0.3\n",
        ") -> float:\n",
        "    \"\"\"\n",
        "    Combines Google Trends, Twitter, and YouTube similarity scores\n",
        "    into a single trending_score.\n",
        "    \"\"\"\n",
        "    g = get_google_trend_score(keywords)\n",
        "    t = get_twitter_trend_score(keywords)\n",
        "    y = get_youtube_trending_similarity(keywords)\n",
        "    return round(w1 * g + w2 * t + w3 * y, 4)\n",
        "\n",
        "df['trending_score'] = df['title'].apply(calculate_trending_score)"
      ],
      "metadata": {
        "id": "0mHa4wAEbxjX",
        "colab": {
          "base_uri": "https://localhost:8080/",
          "height": 369,
          "referenced_widgets": [
            "656529f2835a486396d4a784bb182796",
            "ace25b74e5af48749fb12eb348804ca6",
            "1a0621fd27694169929d96c45c00fa51",
            "3048ab58ffe9469a848e759337154da4",
            "da639addc8c44c1ebf42bdfedf27156a",
            "7d63c6337c16455d868e1a9cb35b807d",
            "4ff473678e564aa2a177a78c951d68ad",
            "43c75e4598114d4cae8f6e40a3d03460",
            "9ebf3c9aef5b4d3aa39ba518366145ec",
            "144ae1b6e4fa4a97a805f3ec93a6b3dd",
            "a48f3bd2b58d4b07b0441dcdb16643ed",
            "5f49a7d3ee93414c9611f31241498b60",
            "6f9c07dc7eb943efbd779d65f69ffb49",
            "7681c2deaed246be8c0237987cd4781b",
            "f310d467d08a4d3d80e24ab5acaac1d2",
            "afa9ff53466c4acdadfb53154b9921d7",
            "498a8afffcde4faab3f747f1e53029c0",
            "861c6e3719c7483c8c7f8c43f9a20c85",
            "a5847950d30547ec8fd51207289a5a01",
            "001c72d5dd534de1b50be986f29d8b72",
            "125bdf2b79014f708fe10405b04e62f4",
            "fbdb0deecfd244cf8c25ca24196aab8e",
            "e40d00b890a744ccacdb4473d15a1637",
            "70a1f3048da74cf2ae26fdc12cfd68b4",
            "41791009d56f472a8a4d7fa1cfc55541",
            "e76c9330f5014ddfb716afcb5cd94484",
            "082045263f6648de88afe390eaa95b4f",
            "5193c70fa77744c990d46d259a9354a5",
            "486002ed4a2a4500a7a7e7d69537e5e7",
            "506db0e64ed54a188978d4e01878fd4d",
            "c3faaee55ffb4d9d9b8b79d7f8797b24",
            "222e91591a9943fdbdc10b472c138074",
            "498d924fe64c464daefd70c717a6ab6d",
            "06fade032609499d855d260ae12c6b52",
            "1a1fb597255c493b85da1a5c0628dc26",
            "fb85179c5b9043e2b9dfba965805cdfc",
            "46ec2792a6cf4cc5bfe302516bc26b14",
            "06acd2f4d9c545cd98ffb2413cc3ef57",
            "902e5b66187641d58ee1127de948e0ef",
            "66ccaaae1d8047b2b6696df404410c51",
            "db661dc3165947f08f77ccd5d616a0af",
            "40e95f8cae5c4b2a8df45fd06390d888",
            "4ff194d08484431fa9d18c9854128139",
            "0069d49748e340e0bfa368d3e6dd37de",
            "53c15d2284544541ac354b2ed14cfee9",
            "24dd2e610fff48c29714fd4d17711e2d",
            "0bae0d0f76224e52b3884b47890999ab",
            "b5dfdf6a265941b9ad6dac3f4eb839f0",
            "1a8825d90dcf446a930c033eb6035755",
            "3ff48d6230964e5c9a1c859a1526df43",
            "8f3803c6365149a297d4404b596dcdbc",
            "f66669f47f4f42b39eaf004be73e1a25",
            "b23036689dfc487eb115d7fae0b192c8",
            "69d43d09b48d4c7fbf4077e98c4e75eb",
            "39d719078f3e436ea1aec5de1c8d4c2f",
            "0ef37768f63047dfbe7f8fa050873f60",
            "a1d6adb2bd6d4826996c9bbc8bab6b2c",
            "85bb68aaaa0940c1b35ab666dac67a61",
            "75cdb6eeea16418f95de0f4201760498",
            "11f8886ee1eb473093319166cd89591a",
            "1ba09f10b1f04b7485b1c6107dd7f5f8",
            "7d72ca4b6ad54f80b34632ed29a94cd4",
            "bfe8556660da4e93a8d0513491d070ff",
            "de20cc5ba7cb47c199d55f5ebf6607ad",
            "837c3bcf64ea48c2b9b19e98f2e1421b",
            "8155c7da531248b1a24af01564358ee4",
            "516ed9a24b604ef384ddd2cfaddd0c5b",
            "36d1fee9b9d74e05aff9921504530699",
            "b20da0afd1094aa8ac76e26e27fce99f",
            "1bd48a9122ed4e1db71edd4ad37b33ae",
            "8dad562181c74fbcaddf0d7e9d5872f5",
            "ae9838a514b44071bd2507edb34e8a1b",
            "9eb2d04359394faeaed1d85c3674bfce",
            "940d88d3701649ff809f3891df4c4dbc",
            "40811a7b9e3647baa4cf2333928c549c",
            "afb0a466366140b69f76aacec6dce618",
            "76ad5766741a4b83b5930b5691b17a33",
            "60f9b203a1d64a519e2649516df46f91",
            "6470d30eaa3b4dddbe60d6cd3ce5d0ce",
            "05bdc54589fc4d789ffcc5a2784516ce",
            "2c7dab2208684841a1dab69bbb6de82e",
            "f32a5e5761cb4f6abe019168fd47a40e",
            "4a071300f5f44cc5be1f85f3fcc34244",
            "410b8995336048ba801e5198cb1ddf9c",
            "dc2bd75d399140cd8268bc878dbb9c38",
            "aa8cf0e4ef0b414abd52cc99a6305928",
            "d41688838e194bfb90cdd247c11e4bbe",
            "94d9b30bee684962a957eafecd8502b4",
            "a92a0dda1908486d951998502f34d346",
            "46f76e992b3942d6b56010c932650172",
            "c1c79040289a4ee3880dc7d6362817ec",
            "83e2ef6e2b544106ab32f7f23463d324",
            "1f31379e94c44df39607be03715855fb",
            "9983da6126c646dcbff26873cf37bb1b",
            "fda78b8b077b43d993b1628f0e911e07",
            "718ec35711634cd69e4a281a31a7524c",
            "30498d0de4f840829064d21168a41611",
            "6b3274c621614120aa9b2ec1fbc5532d",
            "5d95ddf1fd38477e91fea4db41351378",
            "1bdf53bb94d344e48aad09176abe5860",
            "2026d5d621c74ebc8fd4f0831bd369c4",
            "db1deda049744fb2a8b3db3042cf3968",
            "56f2df306172475ca4d286f838870ce4",
            "f9541fff9ab7475d9d30cdc961feb20b",
            "57370862cf5e4c7182337eaabfa7b91b",
            "20ecb86e0a4d48e3b2c213356ea2e1ae",
            "7761ccf097ea47fbb91d4a4aaed5074a",
            "6e1d34f9a63e46bebb82fa96b7263b09",
            "2b13be6f4b734a49bdb53ed7faa4b448",
            "aef260a81a7b44549111436ab288e5e4",
            "68f46d0f70a14d4792f66ca935f3ceeb",
            "671c866648d049348226a2f3efde77b0",
            "99d677ac448a453d961f984bccf53b12",
            "aaba5264e64e415fb1d8f1bb9ca3456f",
            "e1d0ed5c913840168274309ec038ec2b",
            "4aab60c63d4d41028294c880fe95975d",
            "317e9da62e68463ebc2e9914148b82c2",
            "00fd6243f1144627968d7387baab3cb2",
            "b75b42a7c6b34c109b919ef9d3f13ee5",
            "7a731ca4e03b483fabdc6cbb0255e323",
            "16b73437a5744beeb1eb2ad48622eb6d"
          ]
        },
        "outputId": "0d613c34-4db8-46d7-ee08-158e359ebe21"
      },
      "execution_count": null,
      "outputs": [
        {
          "output_type": "display_data",
          "data": {
            "text/plain": [
              "modules.json:   0%|          | 0.00/349 [00:00<?, ?B/s]"
            ],
            "application/vnd.jupyter.widget-view+json": {
              "version_major": 2,
              "version_minor": 0,
              "model_id": "656529f2835a486396d4a784bb182796"
            }
          },
          "metadata": {}
        },
        {
          "output_type": "display_data",
          "data": {
            "text/plain": [
              "config_sentence_transformers.json:   0%|          | 0.00/116 [00:00<?, ?B/s]"
            ],
            "application/vnd.jupyter.widget-view+json": {
              "version_major": 2,
              "version_minor": 0,
              "model_id": "5f49a7d3ee93414c9611f31241498b60"
            }
          },
          "metadata": {}
        },
        {
          "output_type": "display_data",
          "data": {
            "text/plain": [
              "README.md: 0.00B [00:00, ?B/s]"
            ],
            "application/vnd.jupyter.widget-view+json": {
              "version_major": 2,
              "version_minor": 0,
              "model_id": "e40d00b890a744ccacdb4473d15a1637"
            }
          },
          "metadata": {}
        },
        {
          "output_type": "display_data",
          "data": {
            "text/plain": [
              "sentence_bert_config.json:   0%|          | 0.00/53.0 [00:00<?, ?B/s]"
            ],
            "application/vnd.jupyter.widget-view+json": {
              "version_major": 2,
              "version_minor": 0,
              "model_id": "06fade032609499d855d260ae12c6b52"
            }
          },
          "metadata": {}
        },
        {
          "output_type": "display_data",
          "data": {
            "text/plain": [
              "config.json:   0%|          | 0.00/612 [00:00<?, ?B/s]"
            ],
            "application/vnd.jupyter.widget-view+json": {
              "version_major": 2,
              "version_minor": 0,
              "model_id": "53c15d2284544541ac354b2ed14cfee9"
            }
          },
          "metadata": {}
        },
        {
          "output_type": "display_data",
          "data": {
            "text/plain": [
              "model.safetensors:   0%|          | 0.00/90.9M [00:00<?, ?B/s]"
            ],
            "application/vnd.jupyter.widget-view+json": {
              "version_major": 2,
              "version_minor": 0,
              "model_id": "0ef37768f63047dfbe7f8fa050873f60"
            }
          },
          "metadata": {}
        },
        {
          "output_type": "display_data",
          "data": {
            "text/plain": [
              "tokenizer_config.json:   0%|          | 0.00/350 [00:00<?, ?B/s]"
            ],
            "application/vnd.jupyter.widget-view+json": {
              "version_major": 2,
              "version_minor": 0,
              "model_id": "516ed9a24b604ef384ddd2cfaddd0c5b"
            }
          },
          "metadata": {}
        },
        {
          "output_type": "display_data",
          "data": {
            "text/plain": [
              "vocab.txt: 0.00B [00:00, ?B/s]"
            ],
            "application/vnd.jupyter.widget-view+json": {
              "version_major": 2,
              "version_minor": 0,
              "model_id": "60f9b203a1d64a519e2649516df46f91"
            }
          },
          "metadata": {}
        },
        {
          "output_type": "display_data",
          "data": {
            "text/plain": [
              "tokenizer.json: 0.00B [00:00, ?B/s]"
            ],
            "application/vnd.jupyter.widget-view+json": {
              "version_major": 2,
              "version_minor": 0,
              "model_id": "a92a0dda1908486d951998502f34d346"
            }
          },
          "metadata": {}
        },
        {
          "output_type": "display_data",
          "data": {
            "text/plain": [
              "special_tokens_map.json:   0%|          | 0.00/112 [00:00<?, ?B/s]"
            ],
            "application/vnd.jupyter.widget-view+json": {
              "version_major": 2,
              "version_minor": 0,
              "model_id": "1bdf53bb94d344e48aad09176abe5860"
            }
          },
          "metadata": {}
        },
        {
          "output_type": "display_data",
          "data": {
            "text/plain": [
              "config.json:   0%|          | 0.00/190 [00:00<?, ?B/s]"
            ],
            "application/vnd.jupyter.widget-view+json": {
              "version_major": 2,
              "version_minor": 0,
              "model_id": "68f46d0f70a14d4792f66ca935f3ceeb"
            }
          },
          "metadata": {}
        }
      ]
    },
    {
      "cell_type": "code",
      "source": [
        "# Remove description features\n",
        "columns_to_drop = ['description', 'description_length', 'description_sentiment', 'description_has_keywords']\n",
        "df = df.drop(columns=columns_to_drop, axis=1)"
      ],
      "metadata": {
        "id": "p1kFIHGeeqGn"
      },
      "execution_count": null,
      "outputs": []
    },
    {
      "cell_type": "code",
      "source": [
        "# Leave only features, remove conceptual data (title, tags, etc.)\n",
        "columns_to_drop = ['title', 'tags', 'video_id', 'channel_id', 'likeCount', 'viewCount', 'commentCount']\n",
        "df = df.drop(columns=columns_to_drop, axis=1)"
      ],
      "metadata": {
        "id": "kYX6i2UNezRk"
      },
      "execution_count": null,
      "outputs": []
    },
    {
      "cell_type": "code",
      "source": [
        "# Remove 'title_embedding' until we can find a way to use it with our model\n",
        "columns_to_drop = ['title_embedding']\n",
        "df = df.drop(columns=columns_to_drop, axis=1)"
      ],
      "metadata": {
        "id": "hplQTRSYjwon"
      },
      "execution_count": null,
      "outputs": []
    },
    {
      "cell_type": "code",
      "source": [
        "print(df.columns)"
      ],
      "metadata": {
        "colab": {
          "base_uri": "https://localhost:8080/"
        },
        "id": "SeUZofHBhCj1",
        "outputId": "fee63811-6835-4e09-b64c-909e1eb7b583"
      },
      "execution_count": null,
      "outputs": [
        {
          "output_type": "stream",
          "name": "stdout",
          "text": [
            "Index(['avg_red', 'avg_green', 'avg_blue', 'brightness', 'contrast',\n",
            "       'title_sentiment', 'title_subjectivity', 'num_question_marks',\n",
            "       'num_exclamation_marks', 'starts_with_keyword', 'title_length',\n",
            "       'word_count', 'punctuation_count', 'uppercase_word_count',\n",
            "       'percent_letters_uppercase', 'num_digits', 'clickbait_score',\n",
            "       'num_power_words', 'num_timed_words', 'viral', 'tag_sentiment',\n",
            "       'num_unique_tags', 'clickbait_phrase_match', 'title_readability',\n",
            "       'is_listicle', 'is_tutorial', 'num_faces', 'dominant_color_hue',\n",
            "       'thumbnail_edge_density', 'power_word_count', 'timed_word_count',\n",
            "       'num_tags', 'avg_tag_length', 'trending_score'],\n",
            "      dtype='object')\n"
          ]
        }
      ]
    },
    {
      "cell_type": "code",
      "source": [
        "# Export\n",
        "df.to_csv(\"feature_data.csv\", index=False)"
      ],
      "metadata": {
        "id": "gyRBXZ4HE-sq"
      },
      "execution_count": null,
      "outputs": []
    }
  ]
}